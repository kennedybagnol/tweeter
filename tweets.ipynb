{
 "cells": [
  {
   "cell_type": "code",
   "execution_count": 1,
   "id": "bf7fb999-17a2-403c-ade7-556e2c1eb099",
   "metadata": {},
   "outputs": [],
   "source": [
    "import pandas as pd\n",
    "import numpy as np\n",
    "import tweepy as tp\n",
    "import nltk.data\n",
    "\n",
    "from nltk.sentiment.vader import SentimentIntensityAnalyzer\n",
    "from nltk.tokenize import sent_tokenize, word_tokenize, RegexpTokenizer\n",
    "from nltk.stem import WordNetLemmatizer"
   ]
  },
  {
   "cell_type": "markdown",
   "id": "972026c2-571a-46ce-bb70-152ca2a6a805",
   "metadata": {},
   "source": [
    "Logging in to the API"
   ]
  },
  {
   "cell_type": "code",
   "execution_count": 1,
   "id": "ede5ba61-6268-4ec5-a5e9-02a616842759",
   "metadata": {},
   "outputs": [
    {
     "ename": "NameError",
     "evalue": "name 'tp' is not defined",
     "output_type": "error",
     "traceback": [
      "\u001b[0;31m---------------------------------------------------------------------------\u001b[0m",
      "\u001b[0;31mNameError\u001b[0m                                 Traceback (most recent call last)",
      "Input \u001b[0;32mIn [1]\u001b[0m, in \u001b[0;36m<cell line: 1>\u001b[0;34m()\u001b[0m\n\u001b[0;32m----> 1\u001b[0m auth \u001b[38;5;241m=\u001b[39m \u001b[43mtp\u001b[49m\u001b[38;5;241m.\u001b[39mOAuthHandler(\u001b[38;5;124m'\u001b[39m\u001b[38;5;124mQ8PBHkfAQ8Mdu1Jb92xq6XrXk\u001b[39m\u001b[38;5;124m'\u001b[39m, \u001b[38;5;124m'\u001b[39m\u001b[38;5;124mKq2sWTiwYVlce7H8tf2SDnb87AxcavLAOWOkvlrz3IC4PWFRv0\u001b[39m\u001b[38;5;124m'\u001b[39m)\n\u001b[1;32m      2\u001b[0m auth\u001b[38;5;241m.\u001b[39mset_access_token(\u001b[38;5;124m'\u001b[39m\u001b[38;5;124m872883949-S4Yl9enJQRoS5XaaLpq7KH7r0KNw467RvTDFvJZ3\u001b[39m\u001b[38;5;124m'\u001b[39m, \u001b[38;5;124m'\u001b[39m\u001b[38;5;124mrhygCZHSME87BlNLoHhl0ukChWXoe1zhphOkZxwa7tY3n\u001b[39m\u001b[38;5;124m'\u001b[39m)\n\u001b[1;32m      4\u001b[0m api \u001b[38;5;241m=\u001b[39m tp\u001b[38;5;241m.\u001b[39mAPI(auth)\n",
      "\u001b[0;31mNameError\u001b[0m: name 'tp' is not defined"
     ]
    }
   ],
   "source": [
    "auth = tp.OAuthHandler('Q8PBHkfAQ8Mdu1Jb92xq6XrXk', 'Kq2sWTiwYVlce7H8tf2SDnb87AxcavLAOWOkvlrz3IC4PWFRv0')\n",
    "auth.set_access_token('872883949-S4Yl9enJQRoS5XaaLpq7KH7r0KNw467RvTDFvJZ3', 'rhygCZHSME87BlNLoHhl0ukChWXoe1zhphOkZxwa7tY3n')\n",
    "\n",
    "api = tp.API(auth)\n",
    "\n",
    "public_tweets = api.home_timeline()"
   ]
  },
  {
   "cell_type": "markdown",
   "id": "49f63d68-24d2-4772-9793-fedd071712e8",
   "metadata": {},
   "source": [
    "Checking the front page"
   ]
  },
  {
   "cell_type": "code",
   "execution_count": 2,
   "id": "79048373-27a9-4353-b698-0dc7a380d636",
   "metadata": {},
   "outputs": [
    {
     "ename": "NameError",
     "evalue": "name 'public_tweets' is not defined",
     "output_type": "error",
     "traceback": [
      "\u001b[0;31m---------------------------------------------------------------------------\u001b[0m",
      "\u001b[0;31mNameError\u001b[0m                                 Traceback (most recent call last)",
      "Input \u001b[0;32mIn [2]\u001b[0m, in \u001b[0;36m<cell line: 1>\u001b[0;34m()\u001b[0m\n\u001b[0;32m----> 1\u001b[0m \u001b[38;5;28;01mfor\u001b[39;00m tweet \u001b[38;5;129;01min\u001b[39;00m \u001b[43mpublic_tweets\u001b[49m:\n\u001b[1;32m      2\u001b[0m     \u001b[38;5;28mprint\u001b[39m(tweet\u001b[38;5;241m.\u001b[39mtext \u001b[38;5;241m+\u001b[39m \u001b[38;5;124m'\u001b[39m\u001b[38;5;124m \u001b[39m\u001b[38;5;124m'\u001b[39m  \u001b[38;5;241m+\u001b[39m \u001b[38;5;28mstr\u001b[39m(sent\u001b[38;5;241m.\u001b[39mpolarity_scores(tweet\u001b[38;5;241m.\u001b[39mtext)\u001b[38;5;241m.\u001b[39mget(\u001b[38;5;124m'\u001b[39m\u001b[38;5;124mcompound\u001b[39m\u001b[38;5;124m'\u001b[39m) ))\n",
      "\u001b[0;31mNameError\u001b[0m: name 'public_tweets' is not defined"
     ]
    }
   ],
   "source": [
    "for tweet in public_tweets:\n",
    "    print(tweet.text + ' '  + str(sent.polarity_scores(tweet.text).get('compound') ))"
   ]
  },
  {
   "cell_type": "code",
   "execution_count": 3,
   "id": "493196b9-826f-49ee-8d11-5edb0fa82e16",
   "metadata": {},
   "outputs": [
    {
     "name": "stdout",
     "output_type": "stream",
     "text": [
      "{'name': 'United States', 'placeType': {'code': 12, 'name': 'Country'}, 'url': 'http://where.yahooapis.com/v1/place/23424977', 'parentid': 1, 'country': 'United States', 'woeid': 23424977, 'countryCode': 'US'}\n"
     ]
    }
   ],
   "source": [
    "public_trends = api.available_trends()\n",
    "for tweet in public_trends:\n",
    "    if tweet['name'] == 'United States':\n",
    "        print(tweet)"
   ]
  },
  {
   "cell_type": "code",
   "execution_count": 6,
   "id": "4e3fe924-478c-41cf-913b-6cfdcee8094a",
   "metadata": {},
   "outputs": [],
   "source": [
    "# initializing our text processors\n",
    "sent = SentimentIntensityAnalyzer()\n",
    "tokenizer_1 = RegexpTokenizer('\\w+|\\$[\\d\\.]+|\\S+')\n",
    "lemmatizer = WordNetLemmatizer()"
   ]
  },
  {
   "cell_type": "code",
   "execution_count": 13,
   "id": "d59cac1d-fbe2-4faa-995b-4d51ea26f967",
   "metadata": {},
   "outputs": [
    {
     "name": "stdout",
     "output_type": "stream",
     "text": [
      "Casemiro| compound: 0.33960666666666667 pos: 0.13033333333333333 neg: 0.014600000000000002 neu: 0.8551333333333333\n",
      "Tevin Campbell| compound: 0.21842666666666666 pos: 0.08773333333333332 neg: 0.008933333333333333 neu: 0.9033333333333334\n",
      "Brian Stelter| compound: -0.14581666666666662 pos: 0.044250000000000005 neg: 0.12175000000000002 neu: 0.8340833333333334\n",
      "Diggs| compound: 0.07347333333333332 pos: 0.07793333333333334 neg: 0.0334 neu: 0.8887333333333333\n",
      "Julia| compound: 0.44045333333333336 pos: 0.28873333333333334 neg: 0.0 neu: 0.7112666666666667\n",
      "#SheHulk| compound: 0.20748666666666668 pos: 0.12626666666666667 neg: 0.0372 neu: 0.8365333333333335\n",
      "Watson| compound: -0.024413333333333332 pos: 0.07013333333333334 neg: 0.07653333333333333 neu: 0.8533333333333333\n",
      "Reliable Sources| compound: 0.006953333333333339 pos: 0.061133333333333324 neg: 0.06053333333333333 neu: 0.8783333333333333\n",
      "Sam Harris| compound: 0.19696666666666662 pos: 0.11475000000000002 neg: 0.04491666666666667 neu: 0.8403333333333332\n",
      "Danny Granger| compound: -0.06513333333333335 pos: 0.10646666666666667 neg: 0.12586666666666665 neu: 0.7676666666666666\n",
      "#SweetLifeOnMax| compound: -0.023393333333333356 pos: 0.0864 neg: 0.10993333333333334 neu: 0.8036666666666668\n",
      "#IGotADealOn| compound: -0.04194666666666667 pos: 0.0176 neg: 0.03726666666666666 neu: 0.9451333333333333\n",
      "Hollywood Rock| compound: 0.37539999999999996 pos: 0.18326666666666666 neg: 0.012866666666666667 neu: 0.8038666666666666\n",
      "Browns| compound: -0.025626666666666655 pos: 0.07366666666666667 neg: 0.06306666666666666 neu: 0.8633333333333333\n",
      "Stop WOKE Act| compound: -0.4809466666666667 pos: 0.050666666666666665 neg: 0.25653333333333334 neu: 0.6928000000000001\n",
      "#GiveAmberHerVoiceBack| compound: -0.05793333333333333 pos: 0.07 neg: 0.07746666666666666 neu: 0.8525333333333335\n",
      "#honktwtselfieday| compound: 0.35258666666666666 pos: 0.16713333333333333 neg: 0.004600000000000001 neu: 0.8282666666666667\n",
      "Roddy| compound: -0.14290666666666663 pos: 0.07466666666666667 neg: 0.11966666666666669 neu: 0.8056666666666668\n",
      "Tainted Love| compound: 0.6376666666666666 pos: 0.5563333333333335 neg: 0.0072 neu: 0.4364666666666668\n",
      "Henry| compound: 0.44709333333333334 pos: 0.2133333333333333 neg: 0.05479999999999999 neu: 0.7318666666666666\n",
      "BBBY| compound: 0.014240000000000001 pos: 0.0538 neg: 0.08846666666666667 neu: 0.8577333333333333\n",
      "Dan Price| compound: -0.19723333333333334 pos: 0.08266666666666667 neg: 0.14553333333333335 neu: 0.7716666666666666\n",
      "The Villages| compound: -0.06779333333333334 pos: 0.10006666666666668 neg: 0.13026666666666667 neu: 0.7696666666666666\n",
      "Lori Harvey| compound: 0.15119333333333332 pos: 0.10293333333333334 neg: 0.019733333333333335 neu: 0.8772666666666668\n",
      "logan lerman| compound: 0.24687333333333333 pos: 0.10366666666666667 neg: 0.0 neu: 0.8963333333333332\n",
      "Jrue| compound: 0.2198666666666667 pos: 0.22200000000000003 neg: 0.05406666666666667 neu: 0.7238000000000001\n"
     ]
    },
    {
     "ename": "TooManyRequests",
     "evalue": "429 Too Many Requests\n88 - Rate limit exceeded",
     "output_type": "error",
     "traceback": [
      "\u001b[0;31m---------------------------------------------------------------------------\u001b[0m",
      "\u001b[0;31mTooManyRequests\u001b[0m                           Traceback (most recent call last)",
      "Input \u001b[0;32mIn [13]\u001b[0m, in \u001b[0;36m<cell line: 2>\u001b[0;34m()\u001b[0m\n\u001b[1;32m      8\u001b[0m language \u001b[38;5;241m=\u001b[39m \u001b[38;5;124m\"\u001b[39m\u001b[38;5;124men\u001b[39m\u001b[38;5;124m\"\u001b[39m\n\u001b[1;32m     10\u001b[0m \u001b[38;5;66;03m# Calling the user_timeline function with our parameters\u001b[39;00m\n\u001b[0;32m---> 11\u001b[0m results \u001b[38;5;241m=\u001b[39m \u001b[43mapi\u001b[49m\u001b[38;5;241;43m.\u001b[39;49m\u001b[43msearch_tweets\u001b[49m\u001b[43m(\u001b[49m\u001b[43mq\u001b[49m\u001b[38;5;241;43m=\u001b[39;49m\u001b[43mquery\u001b[49m\u001b[43m,\u001b[49m\u001b[43m \u001b[49m\u001b[43mlang\u001b[49m\u001b[38;5;241;43m=\u001b[39;49m\u001b[43mlanguage\u001b[49m\u001b[43m)\u001b[49m\n\u001b[1;32m     13\u001b[0m \u001b[38;5;66;03m# foreach through all tweets pulled\u001b[39;00m\n\u001b[1;32m     14\u001b[0m cmp \u001b[38;5;241m=\u001b[39m \u001b[38;5;241m0\u001b[39m\n",
      "File \u001b[0;32m~/opt/anaconda3/lib/python3.9/site-packages/tweepy/api.py:33\u001b[0m, in \u001b[0;36mpagination.<locals>.decorator.<locals>.wrapper\u001b[0;34m(*args, **kwargs)\u001b[0m\n\u001b[1;32m     31\u001b[0m \u001b[38;5;129m@functools\u001b[39m\u001b[38;5;241m.\u001b[39mwraps(method)\n\u001b[1;32m     32\u001b[0m \u001b[38;5;28;01mdef\u001b[39;00m \u001b[38;5;21mwrapper\u001b[39m(\u001b[38;5;241m*\u001b[39margs, \u001b[38;5;241m*\u001b[39m\u001b[38;5;241m*\u001b[39mkwargs):\n\u001b[0;32m---> 33\u001b[0m     \u001b[38;5;28;01mreturn\u001b[39;00m \u001b[43mmethod\u001b[49m\u001b[43m(\u001b[49m\u001b[38;5;241;43m*\u001b[39;49m\u001b[43margs\u001b[49m\u001b[43m,\u001b[49m\u001b[43m \u001b[49m\u001b[38;5;241;43m*\u001b[39;49m\u001b[38;5;241;43m*\u001b[39;49m\u001b[43mkwargs\u001b[49m\u001b[43m)\u001b[49m\n",
      "File \u001b[0;32m~/opt/anaconda3/lib/python3.9/site-packages/tweepy/api.py:46\u001b[0m, in \u001b[0;36mpayload.<locals>.decorator.<locals>.wrapper\u001b[0;34m(*args, **kwargs)\u001b[0m\n\u001b[1;32m     44\u001b[0m kwargs[\u001b[38;5;124m'\u001b[39m\u001b[38;5;124mpayload_list\u001b[39m\u001b[38;5;124m'\u001b[39m] \u001b[38;5;241m=\u001b[39m payload_list\n\u001b[1;32m     45\u001b[0m kwargs[\u001b[38;5;124m'\u001b[39m\u001b[38;5;124mpayload_type\u001b[39m\u001b[38;5;124m'\u001b[39m] \u001b[38;5;241m=\u001b[39m payload_type\n\u001b[0;32m---> 46\u001b[0m \u001b[38;5;28;01mreturn\u001b[39;00m \u001b[43mmethod\u001b[49m\u001b[43m(\u001b[49m\u001b[38;5;241;43m*\u001b[39;49m\u001b[43margs\u001b[49m\u001b[43m,\u001b[49m\u001b[43m \u001b[49m\u001b[38;5;241;43m*\u001b[39;49m\u001b[38;5;241;43m*\u001b[39;49m\u001b[43mkwargs\u001b[49m\u001b[43m)\u001b[49m\n",
      "File \u001b[0;32m~/opt/anaconda3/lib/python3.9/site-packages/tweepy/api.py:1303\u001b[0m, in \u001b[0;36mAPI.search_tweets\u001b[0;34m(self, q, **kwargs)\u001b[0m\n\u001b[1;32m   1209\u001b[0m \u001b[38;5;129m@pagination\u001b[39m(mode\u001b[38;5;241m=\u001b[39m\u001b[38;5;124m'\u001b[39m\u001b[38;5;124mid\u001b[39m\u001b[38;5;124m'\u001b[39m)\n\u001b[1;32m   1210\u001b[0m \u001b[38;5;129m@payload\u001b[39m(\u001b[38;5;124m'\u001b[39m\u001b[38;5;124msearch_results\u001b[39m\u001b[38;5;124m'\u001b[39m)\n\u001b[1;32m   1211\u001b[0m \u001b[38;5;28;01mdef\u001b[39;00m \u001b[38;5;21msearch_tweets\u001b[39m(\u001b[38;5;28mself\u001b[39m, q, \u001b[38;5;241m*\u001b[39m\u001b[38;5;241m*\u001b[39mkwargs):\n\u001b[1;32m   1212\u001b[0m     \u001b[38;5;124;03m\"\"\"search_tweets(q, *, geocode, lang, locale, result_type, count, \\\u001b[39;00m\n\u001b[1;32m   1213\u001b[0m \u001b[38;5;124;03m                     until, since_id, max_id, include_entities)\u001b[39;00m\n\u001b[1;32m   1214\u001b[0m \n\u001b[0;32m   (...)\u001b[0m\n\u001b[1;32m   1301\u001b[0m \u001b[38;5;124;03m    .. _Twitter's documentation on the standard search API: https://developer.twitter.com/en/docs/twitter-api/v1/tweets/search/overview\u001b[39;00m\n\u001b[1;32m   1302\u001b[0m \u001b[38;5;124;03m    \"\"\"\u001b[39;00m\n\u001b[0;32m-> 1303\u001b[0m     \u001b[38;5;28;01mreturn\u001b[39;00m \u001b[38;5;28;43mself\u001b[39;49m\u001b[38;5;241;43m.\u001b[39;49m\u001b[43mrequest\u001b[49m\u001b[43m(\u001b[49m\n\u001b[1;32m   1304\u001b[0m \u001b[43m        \u001b[49m\u001b[38;5;124;43m'\u001b[39;49m\u001b[38;5;124;43mGET\u001b[39;49m\u001b[38;5;124;43m'\u001b[39;49m\u001b[43m,\u001b[49m\u001b[43m \u001b[49m\u001b[38;5;124;43m'\u001b[39;49m\u001b[38;5;124;43msearch/tweets\u001b[39;49m\u001b[38;5;124;43m'\u001b[39;49m\u001b[43m,\u001b[49m\u001b[43m \u001b[49m\u001b[43mendpoint_parameters\u001b[49m\u001b[38;5;241;43m=\u001b[39;49m\u001b[43m(\u001b[49m\n\u001b[1;32m   1305\u001b[0m \u001b[43m            \u001b[49m\u001b[38;5;124;43m'\u001b[39;49m\u001b[38;5;124;43mq\u001b[39;49m\u001b[38;5;124;43m'\u001b[39;49m\u001b[43m,\u001b[49m\u001b[43m \u001b[49m\u001b[38;5;124;43m'\u001b[39;49m\u001b[38;5;124;43mgeocode\u001b[39;49m\u001b[38;5;124;43m'\u001b[39;49m\u001b[43m,\u001b[49m\u001b[43m \u001b[49m\u001b[38;5;124;43m'\u001b[39;49m\u001b[38;5;124;43mlang\u001b[39;49m\u001b[38;5;124;43m'\u001b[39;49m\u001b[43m,\u001b[49m\u001b[43m \u001b[49m\u001b[38;5;124;43m'\u001b[39;49m\u001b[38;5;124;43mlocale\u001b[39;49m\u001b[38;5;124;43m'\u001b[39;49m\u001b[43m,\u001b[49m\u001b[43m \u001b[49m\u001b[38;5;124;43m'\u001b[39;49m\u001b[38;5;124;43mresult_type\u001b[39;49m\u001b[38;5;124;43m'\u001b[39;49m\u001b[43m,\u001b[49m\u001b[43m \u001b[49m\u001b[38;5;124;43m'\u001b[39;49m\u001b[38;5;124;43mcount\u001b[39;49m\u001b[38;5;124;43m'\u001b[39;49m\u001b[43m,\u001b[49m\n\u001b[1;32m   1306\u001b[0m \u001b[43m            \u001b[49m\u001b[38;5;124;43m'\u001b[39;49m\u001b[38;5;124;43muntil\u001b[39;49m\u001b[38;5;124;43m'\u001b[39;49m\u001b[43m,\u001b[49m\u001b[43m \u001b[49m\u001b[38;5;124;43m'\u001b[39;49m\u001b[38;5;124;43msince_id\u001b[39;49m\u001b[38;5;124;43m'\u001b[39;49m\u001b[43m,\u001b[49m\u001b[43m \u001b[49m\u001b[38;5;124;43m'\u001b[39;49m\u001b[38;5;124;43mmax_id\u001b[39;49m\u001b[38;5;124;43m'\u001b[39;49m\u001b[43m,\u001b[49m\u001b[43m \u001b[49m\u001b[38;5;124;43m'\u001b[39;49m\u001b[38;5;124;43minclude_entities\u001b[39;49m\u001b[38;5;124;43m'\u001b[39;49m\n\u001b[1;32m   1307\u001b[0m \u001b[43m        \u001b[49m\u001b[43m)\u001b[49m\u001b[43m,\u001b[49m\u001b[43m \u001b[49m\u001b[43mq\u001b[49m\u001b[38;5;241;43m=\u001b[39;49m\u001b[43mq\u001b[49m\u001b[43m,\u001b[49m\u001b[43m \u001b[49m\u001b[38;5;241;43m*\u001b[39;49m\u001b[38;5;241;43m*\u001b[39;49m\u001b[43mkwargs\u001b[49m\n\u001b[1;32m   1308\u001b[0m \u001b[43m    \u001b[49m\u001b[43m)\u001b[49m\n",
      "File \u001b[0;32m~/opt/anaconda3/lib/python3.9/site-packages/tweepy/api.py:263\u001b[0m, in \u001b[0;36mAPI.request\u001b[0;34m(self, method, endpoint, endpoint_parameters, params, headers, json_payload, parser, payload_list, payload_type, post_data, files, require_auth, return_cursors, upload_api, use_cache, **kwargs)\u001b[0m\n\u001b[1;32m    261\u001b[0m     \u001b[38;5;28;01mraise\u001b[39;00m NotFound(resp)\n\u001b[1;32m    262\u001b[0m \u001b[38;5;28;01mif\u001b[39;00m resp\u001b[38;5;241m.\u001b[39mstatus_code \u001b[38;5;241m==\u001b[39m \u001b[38;5;241m429\u001b[39m:\n\u001b[0;32m--> 263\u001b[0m     \u001b[38;5;28;01mraise\u001b[39;00m TooManyRequests(resp)\n\u001b[1;32m    264\u001b[0m \u001b[38;5;28;01mif\u001b[39;00m resp\u001b[38;5;241m.\u001b[39mstatus_code \u001b[38;5;241m>\u001b[39m\u001b[38;5;241m=\u001b[39m \u001b[38;5;241m500\u001b[39m:\n\u001b[1;32m    265\u001b[0m     \u001b[38;5;28;01mraise\u001b[39;00m TwitterServerError(resp)\n",
      "\u001b[0;31mTooManyRequests\u001b[0m: 429 Too Many Requests\n88 - Rate limit exceeded"
     ]
    }
   ],
   "source": [
    "# getting the top trends and checking the sentiment of the top tweets that mention them\n",
    "\n",
    "us_trends = api.get_place_trends(23424977)\n",
    "for i in range(len(us_trends[0].get('trends'))):\n",
    "    api = tp.API(auth)\n",
    "\n",
    "    # The search term you want to find\n",
    "    query = us_trends[0].get('trends')[i]['name']\n",
    "    # Language code (follows ISO 639-1 standards)\n",
    "    language = \"en\"\n",
    "\n",
    "    # Calling the user_timeline function with our parameters\n",
    "    results = api.search_tweets(q=query, lang=language)\n",
    "\n",
    "    # foreach through all tweets pulled\n",
    "    cmp = 0\n",
    "    cnt = 0\n",
    "    pos = 0\n",
    "    neu = 0\n",
    "    neg = 0\n",
    "    for tweet in results:\n",
    "        \n",
    "           # printing the text stored inside the tweet object\n",
    "        cnt += 1\n",
    "        cmp += sent.polarity_scores(tweet.text).get('compound') \n",
    "        pos += sent.polarity_scores(tweet.text).get('pos') \n",
    "        neg += sent.polarity_scores(tweet.text).get('neg') \n",
    "        neu += sent.polarity_scores(tweet.text).get('neu') \n",
    "        \n",
    "    print (us_trends[0].get('trends')[i]['name'] + '| compound: ' + str(cmp/cnt) \n",
    "               + ' pos: ' + str(pos/cnt) + ' neg: ' + str(neg/cnt) + ' neu: ' + str(neu/cnt) )"
   ]
  },
  {
   "cell_type": "code",
   "execution_count": 16,
   "id": "b7e2860c-0785-427c-97b8-1d955369deee",
   "metadata": {},
   "outputs": [
    {
     "name": "stdout",
     "output_type": "stream",
     "text": [
      "YuriSteadman Tweeted: RT @searchfi_eth: 🍎APPLE X ArcanaHQ🍎\n",
      "\n",
      "We are giving away 3 WL courtesy of the @ArcanaHQ team!\n",
      "\n",
      "🚨To Enter:\n",
      "1⃣Follow \n",
      "@ArcanaHQ  + @eth_apple… 0.636\n",
      "chuckecheesez Tweeted: RT @thecartooncrave: The #InfinityTrain soundtrack has been removed from music streaming platforms including Pandora, YouTube, &amp; Apple Musi… 0.0\n",
      "4_hastings Tweeted: “My experience taught me that the anti-abortion movement at work in recent decades… leaves out helping single paren… https://t.co/FEck1H8Zhj 0.296\n",
      "mudrizy Tweeted: RT @Mbahdeyforyou: Asake dun drop time to rearrange Apple Music chart😂 -0.2732\n",
      "_deyola Tweeted: RT @blaccmajek: And i see darkness all around me, but i know I’m the light ⚡️⚡️ https://t.co/YHYeybbO5s -0.128\n",
      "fabulous8_ Tweeted: RT @WORLDMUSICAWARD: #NCT’s amazing #Jaehyun lands at #6 on the #WorldwideiTunesSongChart with his 1st self-written solo track #ForeverOnly… 0.5859\n",
      "YMtrio Tweeted: RT @printyonce_: Apple Music Barbz get your ass up and stream -0.5423\n",
      "cfickett Tweeted: @MissJilianne @Teslarati @JohnnaCrider1 @elonmusk I would prefer Tesla support the Apple Watch! ⌚️ 0.4574\n",
      "emojiera Tweeted: RT @QCWorldwide: 🇺🇸Apple Music US:\n",
      "\n",
      "#7. Super Freaky Girl, @NICKIMINAJ — (-1) *Peak 5* https://t.co/qUpGi5MoZm 0.34\n",
      "boluxxxx Tweeted: Who’s Chillz? This is really good. Catchy as damn! https://t.co/YH6IDKmFsx 0.1986\n",
      "CLMXrecords Tweeted: ♫iamSHUM &amp; DJ YAGI / Stay With Me\n",
      "\n",
      "Apple Music\n",
      "https://t.co/bKnmBxhVIu\n",
      "\n",
      "Spotify\n",
      "https://t.co/drkaW6898B\n",
      "\n",
      "LINE MUSIC… https://t.co/GpmEEY8j4x 0.0\n",
      "Lovatcs11 Tweeted: RT @AppleMusic: This collab (and hat) is everything. 👑\n",
      "\n",
      "@Anitta and @MissyElliott team up on #Lobby: https://t.co/La1MDeVYXj https://t.co/i… 0.0\n",
      "2ck Tweeted: RT @JackPosobiec: BREAKING: The Secret Calls Between Joe Manchin and Bill Gates on the Inflation Reduction Act\n",
      "\n",
      "https://t.co/a028MRafXz htt… 0.0\n",
      "zoe_christine_ Tweeted: Lately I’ve just been listening to a song on my phone &amp; then I’ll let it shuffle through Apple Music, been finding some new songs ✊🏼 0.0\n",
      "immakwart Tweeted: RT @YMtrio: @nickistreamteam #SuperFreakyGirl BY @NICKIMINAJ OUT NOW🔥\n",
      "\n",
      "Website: https://t.co/lP0XV95Qfj\n",
      "iTunes/Apple Music: https://t.co/qZ… 0.0\n"
     ]
    }
   ],
   "source": [
    "# Creating the API object while passing in auth information\n",
    "api = tp.API(auth)\n",
    "\n",
    "# The search term you want to find\n",
    "query = \"Apple\"\n",
    "# Language code (follows ISO 639-1 standards)\n",
    "language = \"en\"\n",
    "\n",
    "# Calling the user_timeline function with our parameters\n",
    "results = api.search_tweets(q=query, lang=language)\n",
    "\n",
    "# foreach through all tweets pulled\n",
    "for tweet in results:\n",
    "   # printing the text stored inside the tweet object\n",
    "   print (tweet.user.screen_name,\"Tweeted:\",tweet.text, sent.polarity_scores(tweet.text).get('compound'))"
   ]
  },
  {
   "cell_type": "code",
   "execution_count": 17,
   "id": "03a6b2de-b57d-47f9-a627-898271f86e70",
   "metadata": {},
   "outputs": [
    {
     "data": {
      "text/plain": [
       "50"
      ]
     },
     "execution_count": 17,
     "metadata": {},
     "output_type": "execute_result"
    }
   ],
   "source": [
    "len(us_trends[0].get('trends'))"
   ]
  },
  {
   "cell_type": "code",
   "execution_count": 19,
   "id": "ef3c284d-f35a-425e-a07e-c5c2183ec9df",
   "metadata": {
    "tags": []
   },
   "outputs": [
    {
     "name": "stdout",
     "output_type": "stream",
     "text": [
      "dang—sorry I missed—was cleaning up dog poop in the back yard https://t.co/xZ9Si62qBl\n"
     ]
    }
   ],
   "source": [
    "us_trend_search = api.search_tweets(q = 'Poop', geocode = '39.52641938727767,-98.15696645901633,1400mi', result_type = 'popular')\n",
    "for tweet in us_trend_search:\n",
    "    print(tweet.text)"
   ]
  },
  {
   "cell_type": "code",
   "execution_count": null,
   "id": "83dbbd5d-2c03-4865-9ac3-e5ee11404c0f",
   "metadata": {},
   "outputs": [],
   "source": [
    "type(us_trend_search)"
   ]
  },
  {
   "cell_type": "code",
   "execution_count": null,
   "id": "be5690be-1486-4fa2-9217-a382589d0930",
   "metadata": {
    "tags": []
   },
   "outputs": [],
   "source": [
    "us_trend_search"
   ]
  },
  {
   "cell_type": "code",
   "execution_count": null,
   "id": "b79d2a1f-81e4-47b8-bea3-22c6188cb6dd",
   "metadata": {},
   "outputs": [],
   "source": [
    "# Creating the API object while passing in auth information\n",
    "api = tp.API(auth)\n",
    "\n",
    "# The Twitter user who we want to get tweets from\n",
    "name = \"nytimes\"\n",
    "# Number of tweets to pull\n",
    "tweetCount = 20\n",
    "\n",
    "# Calling the user_timeline function with our parameters\n",
    "results = api.user_timeline(id=name, count=tweetCount)\n",
    "\n",
    "# foreach through all tweets pulled\n",
    "for tweet in results:\n",
    "   # printing the text stored inside the tweet object\n",
    "   print (tweet.text)"
   ]
  },
  {
   "cell_type": "code",
   "execution_count": null,
   "id": "39b323ba-4568-4ad2-8b89-7099c9420e75",
   "metadata": {},
   "outputs": [],
   "source": [
    "# Creating the API object while passing in auth information\n",
    "api = tp.API(auth)\n",
    "\n",
    "# The search term you want to find\n",
    "query = \"Apple\"\n",
    "# Language code (follows ISO 639-1 standards)\n",
    "language = \"en\"\n",
    "\n",
    "# Calling the user_timeline function with our parameters\n",
    "results = api.search_tweets(q=query, lang=language)\n",
    "\n",
    "# foreach through all tweets pulled\n",
    "for tweet in results:\n",
    "   # printing the text stored inside the tweet object\n",
    "   print (tweet.user.screen_name,\"Tweeted:\",tweet.text, sent.polarity_scores(tweet.text).get('compound'))"
   ]
  },
  {
   "cell_type": "code",
   "execution_count": null,
   "id": "03d63e76-d769-4a24-bc09-a58878105c38",
   "metadata": {},
   "outputs": [],
   "source": [
    "cmp = 0\n",
    "cnt = 0\n",
    "for tweet in results:\n",
    "   # printing the text stored inside the tweet object\n",
    "    cnt += 1\n",
    "    cmp += sent.polarity_scores(tweet.text).get('compound') \n",
    "print(cmp/results.len())"
   ]
  },
  {
   "cell_type": "markdown",
   "id": "8817da33-41c4-4b6e-af5a-c959a2956b6f",
   "metadata": {},
   "source": []
  },
  {
   "cell_type": "code",
   "execution_count": null,
   "id": "ed93a9fa-bc13-4760-8573-1a70374ca1c0",
   "metadata": {},
   "outputs": [],
   "source": [
    "cmp"
   ]
  },
  {
   "cell_type": "code",
   "execution_count": null,
   "id": "1ff6fbd9-5223-47f9-beb8-aa8d3bb33a93",
   "metadata": {},
   "outputs": [],
   "source": []
  },
  {
   "cell_type": "code",
   "execution_count": null,
   "id": "7300fd80-bddc-40e9-a38e-2eeb3c95b9eb",
   "metadata": {},
   "outputs": [],
   "source": [
    "print (results.tweet.text)"
   ]
  },
  {
   "cell_type": "code",
   "execution_count": null,
   "id": "2112cbaf-ad9c-49a7-800c-00e8eb90192e",
   "metadata": {},
   "outputs": [],
   "source": [
    "sent.polarity_scores(\"Bitch\")"
   ]
  },
  {
   "cell_type": "code",
   "execution_count": null,
   "id": "092c25cc-e393-4c71-b2b7-d211634c4c4e",
   "metadata": {},
   "outputs": [],
   "source": [
    "sent.polarity_scores(\"t"
   ]
  },
  {
   "cell_type": "code",
   "execution_count": null,
   "id": "97f9e56f-1ab3-4f9a-a140-132e03e6daf4",
   "metadata": {},
   "outputs": [],
   "source": []
  }
 ],
 "metadata": {
  "kernelspec": {
   "display_name": "Python 3 (ipykernel)",
   "language": "python",
   "name": "python3"
  },
  "language_info": {
   "codemirror_mode": {
    "name": "ipython",
    "version": 3
   },
   "file_extension": ".py",
   "mimetype": "text/x-python",
   "name": "python",
   "nbconvert_exporter": "python",
   "pygments_lexer": "ipython3",
   "version": "3.9.12"
  }
 },
 "nbformat": 4,
 "nbformat_minor": 5
}
