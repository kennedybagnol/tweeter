{
 "cells": [
  {
   "cell_type": "code",
   "execution_count": 1,
   "id": "bf7fb999-17a2-403c-ade7-556e2c1eb099",
   "metadata": {},
   "outputs": [],
   "source": [
    "import pandas as pd\n",
    "import numpy as np\n",
    "import tweepy as tp\n",
    "import nltk.data\n",
    "\n",
    "from nltk.sentiment.vader import SentimentIntensityAnalyzer\n",
    "from nltk.tokenize import sent_tokenize, word_tokenize, RegexpTokenizer\n",
    "from nltk.stem import WordNetLemmatizer"
   ]
  },
  {
   "cell_type": "code",
   "execution_count": 2,
   "id": "ede5ba61-6268-4ec5-a5e9-02a616842759",
   "metadata": {},
   "outputs": [
    {
     "name": "stdout",
     "output_type": "stream",
     "text": [
      "b'googling how2diequick&amp;painless'\n",
      "b'RT @SuperYakiShop: 15 years ago today... the world watched Zac Efron sing \"Bet On It\" alone on a golf course https://t.co/3Ji5Wb7aID'\n",
      "b\"RT @Macrobioboi: No joke, watched @riennezelda eat dry cereal this morning. Straight up, bowl, cereal, spoon. She's real about it.\"\n",
      "b'baby baby BABE i\\xe2\\x80\\x99m comin home to your TENDER \\xf0\\x9f\\x97\\xa3 SWEET LOVIN \\xf0\\x9f\\x97\\xa3'\n",
      "b'RT @pussypearI: me passing the pen to my friend https://t.co/BCw0IgJPkj'\n",
      "b'Woah #CalvinandHobbes https://t.co/DE5iZzN9iX'\n",
      "b'Image prediction: suit\\nConfidence: 37.45%\\nSubmission by @SpicySpaceBoi https://t.co/cGVLKr6t4S'\n",
      "b'RT @BassCanyon: TOMORROW. https://t.co/8gPHbcdMmv'\n",
      "b'RT @sexglitter: I\\xe2\\x80\\x99m about to just shoot my shot and send Caroline Vu my nudes'\n",
      "b'RT @99CONFESSlONS: Television peaked here https://t.co/FJkHCa8GCe'\n",
      "b'SNEAK PEAK VIDEO SUB GOAL AS WELL'\n",
      "b'https://t.co/iT6ZHW0Wci \\n\\nGETTING MY HARLEY OUT OF RANK 50K ( ROFLL ) \\n\\nLONG MELEE GRIND TODAY'\n",
      "b'@ZainNaghmi hey man boot up boshy'\n",
      "b'RT @iamraymccormick: I\\xe2\\x80\\x99ve never seen gay representation as accurately as this \\xf0\\x9f\\x98\\xad\\xf0\\x9f\\x98\\xad\\xf0\\x9f\\x98\\xad https://t.co/e9yu6R1I3W'\n",
      "b\"RT @JoshuaPotash: I'm amazed they're really laying out the housing crisis on TV https://t.co/BDWllKPKeB\"\n",
      "b'RT @NathanForYouOoC: https://t.co/qEpHzBAU2U'\n",
      "b'Thank you all for sharing! I want the masses to hear your stories. You\\xe2\\x80\\x99re all an inspiration to many \\xf0\\x9f\\xab\\xb6\\xf0\\x9f\\x8f\\xbd https://t.co/WeqveCaFdW'\n",
      "b'Affirm to yourself: \\n\\nYesterday\\xe2\\x80\\x99s price is not today\\xe2\\x80\\x99s price!'\n",
      "b'YES! \\xf0\\x9f\\x92\\x9c\\xf0\\x9f\\x92\\x9c https://t.co/vpRmhF4ovd'\n",
      "b\"moky's secondaries are the best in the world\\n\\nmine could just never compare\\n\\ni am shit i am shit i am shit\"\n"
     ]
    }
   ],
   "source": [
    "auth = tp.OAuthHandler('Q8PBHkfAQ8Mdu1Jb92xq6XrXk', 'Kq2sWTiwYVlce7H8tf2SDnb87AxcavLAOWOkvlrz3IC4PWFRv0')\n",
    "auth.set_access_token('872883949-S4Yl9enJQRoS5XaaLpq7KH7r0KNw467RvTDFvJZ3', 'rhygCZHSME87BlNLoHhl0ukChWXoe1zhphOkZxwa7tY3n')\n",
    "\n",
    "api = tp.API(auth)\n",
    "\n",
    "public_tweets = api.home_timeline()\n",
    "for tweet in public_tweets:\n",
    "    print(tweet.text.encode('utf-8'))"
   ]
  },
  {
   "cell_type": "code",
   "execution_count": 3,
   "id": "493196b9-826f-49ee-8d11-5edb0fa82e16",
   "metadata": {},
   "outputs": [
    {
     "name": "stdout",
     "output_type": "stream",
     "text": [
      "{'name': 'United States', 'placeType': {'code': 12, 'name': 'Country'}, 'url': 'http://where.yahooapis.com/v1/place/23424977', 'parentid': 1, 'country': 'United States', 'woeid': 23424977, 'countryCode': 'US'}\n"
     ]
    }
   ],
   "source": [
    "\n",
    "public_trends = api.available_trends()\n",
    "for tweet in public_trends:\n",
    "    if tweet['name'] == 'United States':\n",
    "        print(tweet)"
   ]
  },
  {
   "cell_type": "code",
   "execution_count": 4,
   "id": "8439f64f-5bda-487f-8883-ed0e8bebb837",
   "metadata": {},
   "outputs": [
    {
     "name": "stdout",
     "output_type": "stream",
     "text": [
      "Casemiro\n",
      "Tevin Campbell\n",
      "Brian Stelter\n",
      "Diggs\n",
      "Julia\n",
      "#SheHulk\n",
      "Watson\n",
      "Reliable Sources\n",
      "Sam Harris\n",
      "Danny Granger\n",
      "#SweetLifeOnMax\n",
      "Hollywood Rock\n",
      "Browns\n",
      "Stop WOKE Act\n",
      "#IGotADealOn\n",
      "#GiveAmberHerVoiceBack\n",
      "Roddy\n",
      "Tainted Love\n",
      "#honktwtselfieday\n",
      "Henry\n",
      "BBBY\n",
      "The Villages\n",
      "Jrue\n",
      "logan lerman\n",
      "Lori Harvey\n",
      "Ryan Cohen\n",
      "One D&D\n",
      "Punk\n",
      "Dan Price\n",
      "Bregman\n",
      "Zac Gallen\n",
      "Texans\n",
      "Giolito\n",
      "The English Patient\n",
      "Can We Talk\n",
      "Kadri\n",
      "Weisselberg\n",
      "People's Champ\n",
      "Bruce\n",
      "Jake Meyers\n",
      "Pujols\n",
      "Mike Tomlin\n",
      "Richard\n",
      "Petiri\n",
      "Humpty Dumpty\n",
      "Coach Tomlin\n",
      "Size 8\n",
      "Josh Harrison\n",
      "The NFL\n",
      "Calgary\n"
     ]
    }
   ],
   "source": [
    "us_trends = api.get_place_trends(23424977)\n",
    "for i in range(len(us_trends[0].get('trends'))):\n",
    "    print (us_trends[0].get('trends')[i]['name'])"
   ]
  },
  {
   "cell_type": "code",
   "execution_count": 6,
   "id": "4e3fe924-478c-41cf-913b-6cfdcee8094a",
   "metadata": {},
   "outputs": [],
   "source": [
    "# initializing our text processors\n",
    "sent = SentimentIntensityAnalyzer()\n",
    "tokenizer_1 = RegexpTokenizer('\\w+|\\$[\\d\\.]+|\\S+')\n",
    "lemmatizer = WordNetLemmatizer()"
   ]
  },
  {
   "cell_type": "code",
   "execution_count": 12,
   "id": "d59cac1d-fbe2-4faa-995b-4d51ea26f967",
   "metadata": {},
   "outputs": [
    {
     "name": "stdout",
     "output_type": "stream",
     "text": [
      "Casemiro| compound: 0.08244 pos: 0.06766666666666667 neg: 0.03186666666666667 neu: 0.9004666666666666\n",
      "Tevin Campbell| compound: 0.25096666666666667 pos: 0.08626666666666667 neg: 0.0 neu: 0.9137333333333333\n",
      "Diggs| compound: 0.08630666666666667 pos: 0.10353333333333332 neg: 0.06373333333333334 neu: 0.8326666666666666\n",
      "Brian Stelter| compound: -0.21554615384615383 pos: 0.04069230769230769 neg: 0.1203846153846154 neu: 0.8389230769230769\n",
      "Julia| compound: 0.5898333333333334 pos: 0.3526 neg: 0.009800000000000001 neu: 0.6376000000000001\n",
      "#SheHulk| compound: 0.27981333333333336 pos: 0.12413333333333335 neg: 0.0052 neu: 0.8706666666666667\n",
      "Watson| compound: 0.21644666666666668 pos: 0.13386666666666666 neg: 0.02206666666666667 neu: 0.8440666666666665\n",
      "Sam Harris| compound: 0.008930000000000004 pos: 0.03729999999999999 neg: 0.0359 neu: 0.9268000000000001\n",
      "Reliable Sources| compound: -0.13946000000000003 pos: 0.0542 neg: 0.09699999999999999 neu: 0.8487999999999999\n",
      "#SweetLifeOnMax| compound: 0.3523866666666666 pos: 0.2527333333333333 neg: 0.07339999999999999 neu: 0.6738666666666667\n",
      "Danny Granger| compound: -0.08008 pos: 0.05446666666666666 neg: 0.09533333333333334 neu: 0.8502\n",
      "Hollywood Rock| compound: 0.0810642857142857 pos: 0.071 neg: 0.019714285714285715 neu: 0.9092857142857145\n",
      "Browns| compound: -0.10065999999999999 pos: 0.033 neg: 0.0628 neu: 0.9042\n",
      "Stop WOKE Act| compound: -0.48071333333333327 pos: 0.019933333333333334 neg: 0.21939999999999996 neu: 0.7606666666666667\n",
      "#IGotADealOn| compound: 0.05251333333333333 pos: 0.060933333333333325 neg: 0.05566666666666666 neu: 0.8834000000000001\n",
      "#GiveAmberHerVoiceBack| compound: 0.018906666666666665 pos: 0.06593333333333333 neg: 0.07533333333333332 neu: 0.8587333333333335\n",
      "Roddy| compound: 0.05585333333333332 pos: 0.15039999999999998 neg: 0.10633333333333332 neu: 0.7432666666666666\n",
      "Henry| compound: 0.4068533333333334 pos: 0.2076666666666667 neg: 0.0626 neu: 0.7295999999999999\n",
      "#honktwtselfieday| compound: 0.19890666666666668 pos: 0.13046666666666665 neg: 0.024066666666666667 neu: 0.8454666666666667\n",
      "Tainted Love| compound: 0.5786333333333333 pos: 0.3551111111111111 neg: 0.008555555555555556 neu: 0.6363333333333334\n",
      "BBBY| compound: -0.07526000000000002 pos: 0.0444 neg: 0.08066666666666666 neu: 0.8749333333333332\n",
      "Lori Harvey| compound: -0.031119999999999988 pos: 0.05973333333333333 neg: 0.07380000000000002 neu: 0.8663333333333333\n",
      "The Villages| compound: 0.38139333333333336 pos: 0.153 neg: 0.026600000000000002 neu: 0.8204\n",
      "logan lerman| compound: 0.22030666666666665 pos: 0.09240000000000001 neg: 0.006066666666666666 neu: 0.9015333333333332\n",
      "Jrue| compound: -0.04095333333333332 pos: 0.09620000000000001 neg: 0.11166666666666666 neu: 0.7921333333333334\n",
      "Ryan Cohen| compound: 0.28754 pos: 0.11926666666666666 neg: 0.02333333333333333 neu: 0.8574000000000002\n",
      "One D&D| compound: 0.1364733333333333 pos: 0.10233333333333333 neg: 0.046733333333333335 neu: 0.8509333333333333\n",
      "Punk| compound: -0.044306666666666675 pos: 0.0328 neg: 0.074 neu: 0.8932\n",
      "Dan Price| compound: -0.3266 pos: 0.0872 neg: 0.18453333333333335 neu: 0.7278666666666668\n",
      "Bregman| compound: 0.020913333333333332 pos: 0.0428 neg: 0.02333333333333333 neu: 0.9338666666666666\n",
      "Zac Gallen| compound: 0.16099333333333332 pos: 0.11266666666666666 neg: 0.037200000000000004 neu: 0.8501333333333334\n",
      "Texans| compound: 0.16963999999999999 pos: 0.12046666666666668 neg: 0.0634 neu: 0.8161333333333333\n",
      "Giolito| compound: 0.04030666666666665 pos: 0.06106666666666667 neg: 0.03626666666666667 neu: 0.9026666666666666\n",
      "The English Patient| compound: 0.019506666666666672 pos: 0.0688 neg: 0.05753333333333333 neu: 0.8736666666666666\n",
      "Can We Talk| compound: -0.15196666666666667 pos: 0.10926666666666668 neg: 0.1492 neu: 0.7415333333333332\n",
      "Weisselberg| compound: -0.19434666666666672 pos: 0.0732 neg: 0.13753333333333334 neu: 0.7893999999999999\n",
      "Kadri| compound: 0.11896 pos: 0.0774 neg: 0.033266666666666674 neu: 0.8894666666666666\n",
      "People's Champ| compound: 0.5172066666666667 pos: 0.4234666666666667 neg: 0.006866666666666666 neu: 0.5696666666666665\n",
      "Bruce| compound: 0.09993333333333335 pos: 0.1032 neg: 0.04106666666666667 neu: 0.8557333333333332\n",
      "Jake Meyers| compound: -0.12041333333333333 pos: 0.015466666666666667 neg: 0.0596 neu: 0.9248666666666666\n",
      "Bryan Reynolds| compound: 0.006893333333333325 pos: 0.03553333333333333 neg: 0.0414 neu: 0.9230666666666667\n",
      "Pujols| compound: 0.12881333333333334 pos: 0.13253333333333334 neg: 0.09306666666666667 neu: 0.7742666666666668\n",
      "Mike Tomlin| compound: 0.4067133333333333 pos: 0.2478 neg: 0.05213333333333334 neu: 0.7000666666666666\n",
      "Petiri| compound: -0.025339999999999998 pos: 0.0706 neg: 0.08906666666666666 neu: 0.8404666666666667\n",
      "Richard| compound: 0.19268666666666664 pos: 0.13446666666666662 neg: 0.055799999999999995 neu: 0.8096666666666666\n",
      "Coach Tomlin| compound: 0.3050133333333333 pos: 0.19039999999999999 neg: 0.02846666666666667 neu: 0.7811333333333332\n",
      "Size 8| compound: 0.04519090909090909 pos: 0.06454545454545454 neg: 0.04527272727272727 neu: 0.8901818181818182\n",
      "Humpty Dumpty| compound: 0.04720000000000002 pos: 0.10308333333333335 neg: 0.07625 neu: 0.82075\n",
      "Josh Harrison| compound: -0.024013333333333338 pos: 0.0218 neg: 0.0272 neu: 0.951\n",
      "The NFL| compound: 0.30441333333333337 pos: 0.13353333333333334 neg: 0.021866666666666666 neu: 0.8445999999999999\n"
     ]
    }
   ],
   "source": [
    "us_trends = api.get_place_trends(23424977)\n",
    "for i in range(len(us_trends[0].get('trends'))):\n",
    "    api = tp.API(auth)\n",
    "\n",
    "    # The search term you want to find\n",
    "    query = us_trends[0].get('trends')[i]['name']\n",
    "    # Language code (follows ISO 639-1 standards)\n",
    "    language = \"en\"\n",
    "\n",
    "    # Calling the user_timeline function with our parameters\n",
    "    results = api.search_tweets(q=query, lang=language)\n",
    "\n",
    "    # foreach through all tweets pulled\n",
    "    cmp = 0\n",
    "    cnt = 0\n",
    "    pos = 0\n",
    "    neu = 0\n",
    "    neg = 0\n",
    "    for tweet in results:\n",
    "        \n",
    "           # printing the text stored inside the tweet object\n",
    "        cnt += 1\n",
    "        cmp += sent.polarity_scores(tweet.text).get('compound') \n",
    "        pos += sent.polarity_scores(tweet.text).get('pos') \n",
    "        neg += sent.polarity_scores(tweet.text).get('neg') \n",
    "        neu += sent.polarity_scores(tweet.text).get('neu') \n",
    "        \n",
    "    print (us_trends[0].get('trends')[i]['name'] + '| compound: ' + str(cmp/cnt) + ' pos: ' + str(pos/cnt) + ' neg: ' + str(neg/cnt) + ' neu: ' + str(neu/cnt) )\n"
   ]
  },
  {
   "cell_type": "code",
   "execution_count": null,
   "id": "b7e2860c-0785-427c-97b8-1d955369deee",
   "metadata": {},
   "outputs": [],
   "source": [
    "# Creating the API object while passing in auth information\n",
    "api = tp.API(auth)\n",
    "\n",
    "# The search term you want to find\n",
    "query = \"Apple\"\n",
    "# Language code (follows ISO 639-1 standards)\n",
    "language = \"en\"\n",
    "\n",
    "# Calling the user_timeline function with our parameters\n",
    "results = api.search_tweets(q=query, lang=language)\n",
    "\n",
    "# foreach through all tweets pulled\n",
    "for tweet in results:\n",
    "   # printing the text stored inside the tweet object\n",
    "   print (tweet.user.screen_name,\"Tweeted:\",tweet.text, sent.polarity_scores(tweet.text).get('compound'))"
   ]
  },
  {
   "cell_type": "code",
   "execution_count": null,
   "id": "03a6b2de-b57d-47f9-a627-898271f86e70",
   "metadata": {},
   "outputs": [],
   "source": [
    "len(us_trends[0].get('trends'))"
   ]
  },
  {
   "cell_type": "code",
   "execution_count": null,
   "id": "ef3c284d-f35a-425e-a07e-c5c2183ec9df",
   "metadata": {
    "tags": []
   },
   "outputs": [],
   "source": [
    "us_trend_search = api.search_tweets(q = 'Putin', geocode = '39.52641938727767,-98.15696645901633,1400mi', result_type = 'popular')\n",
    "for tweet in us_trend_search:\n",
    "    print(tweet.text)"
   ]
  },
  {
   "cell_type": "code",
   "execution_count": null,
   "id": "83dbbd5d-2c03-4865-9ac3-e5ee11404c0f",
   "metadata": {},
   "outputs": [],
   "source": [
    "type(us_trend_search)"
   ]
  },
  {
   "cell_type": "code",
   "execution_count": null,
   "id": "be5690be-1486-4fa2-9217-a382589d0930",
   "metadata": {
    "tags": []
   },
   "outputs": [],
   "source": [
    "us_trend_search"
   ]
  },
  {
   "cell_type": "code",
   "execution_count": null,
   "id": "b79d2a1f-81e4-47b8-bea3-22c6188cb6dd",
   "metadata": {},
   "outputs": [],
   "source": [
    "# Creating the API object while passing in auth information\n",
    "api = tp.API(auth)\n",
    "\n",
    "# The Twitter user who we want to get tweets from\n",
    "name = \"nytimes\"\n",
    "# Number of tweets to pull\n",
    "tweetCount = 20\n",
    "\n",
    "# Calling the user_timeline function with our parameters\n",
    "results = api.user_timeline(id=name, count=tweetCount)\n",
    "\n",
    "# foreach through all tweets pulled\n",
    "for tweet in results:\n",
    "   # printing the text stored inside the tweet object\n",
    "   print (tweet.text)"
   ]
  },
  {
   "cell_type": "code",
   "execution_count": null,
   "id": "39b323ba-4568-4ad2-8b89-7099c9420e75",
   "metadata": {},
   "outputs": [],
   "source": [
    "# Creating the API object while passing in auth information\n",
    "api = tp.API(auth)\n",
    "\n",
    "# The search term you want to find\n",
    "query = \"Apple\"\n",
    "# Language code (follows ISO 639-1 standards)\n",
    "language = \"en\"\n",
    "\n",
    "# Calling the user_timeline function with our parameters\n",
    "results = api.search_tweets(q=query, lang=language)\n",
    "\n",
    "# foreach through all tweets pulled\n",
    "for tweet in results:\n",
    "   # printing the text stored inside the tweet object\n",
    "   print (tweet.user.screen_name,\"Tweeted:\",tweet.text, sent.polarity_scores(tweet.text).get('compound'))"
   ]
  },
  {
   "cell_type": "code",
   "execution_count": null,
   "id": "03d63e76-d769-4a24-bc09-a58878105c38",
   "metadata": {},
   "outputs": [],
   "source": [
    "cmp = 0\n",
    "cnt = 0\n",
    "for tweet in results:\n",
    "   # printing the text stored inside the tweet object\n",
    "    cnt += 1\n",
    "    cmp += sent.polarity_scores(tweet.text).get('compound') \n",
    "print(cmp/results.len())"
   ]
  },
  {
   "cell_type": "markdown",
   "id": "8817da33-41c4-4b6e-af5a-c959a2956b6f",
   "metadata": {},
   "source": []
  },
  {
   "cell_type": "code",
   "execution_count": null,
   "id": "ed93a9fa-bc13-4760-8573-1a70374ca1c0",
   "metadata": {},
   "outputs": [],
   "source": [
    "cmp"
   ]
  },
  {
   "cell_type": "code",
   "execution_count": null,
   "id": "1ff6fbd9-5223-47f9-beb8-aa8d3bb33a93",
   "metadata": {},
   "outputs": [],
   "source": []
  },
  {
   "cell_type": "code",
   "execution_count": null,
   "id": "7300fd80-bddc-40e9-a38e-2eeb3c95b9eb",
   "metadata": {},
   "outputs": [],
   "source": [
    "print (results.tweet.text)"
   ]
  },
  {
   "cell_type": "code",
   "execution_count": null,
   "id": "2112cbaf-ad9c-49a7-800c-00e8eb90192e",
   "metadata": {},
   "outputs": [],
   "source": [
    "sent.polarity_scores(\"Bitch\")"
   ]
  },
  {
   "cell_type": "code",
   "execution_count": null,
   "id": "092c25cc-e393-4c71-b2b7-d211634c4c4e",
   "metadata": {},
   "outputs": [],
   "source": [
    "sent.polarity_scores(\"t"
   ]
  },
  {
   "cell_type": "code",
   "execution_count": null,
   "id": "97f9e56f-1ab3-4f9a-a140-132e03e6daf4",
   "metadata": {},
   "outputs": [],
   "source": []
  }
 ],
 "metadata": {
  "kernelspec": {
   "display_name": "Python 3 (ipykernel)",
   "language": "python",
   "name": "python3"
  },
  "language_info": {
   "codemirror_mode": {
    "name": "ipython",
    "version": 3
   },
   "file_extension": ".py",
   "mimetype": "text/x-python",
   "name": "python",
   "nbconvert_exporter": "python",
   "pygments_lexer": "ipython3",
   "version": "3.9.12"
  }
 },
 "nbformat": 4,
 "nbformat_minor": 5
}
