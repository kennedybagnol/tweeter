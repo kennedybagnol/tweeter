{
 "cells": [
  {
   "cell_type": "code",
   "execution_count": 28,
   "id": "bf7fb999-17a2-403c-ade7-556e2c1eb099",
   "metadata": {},
   "outputs": [],
   "source": [
    "import pandas as pd\n",
    "import numpy as np\n",
    "import tweepy as tp\n",
    "import nltk.data\n",
    "from nltk.sentiment.vader import SentimentIntensityAnalyzer\n",
    "from nltk.tokenize import sent_tokenize, word_tokenize, RegexpTokenizer\n",
    "from nltk.stem import WordNetLemmatizer"
   ]
  },
  {
   "cell_type": "code",
   "execution_count": 2,
   "id": "ede5ba61-6268-4ec5-a5e9-02a616842759",
   "metadata": {},
   "outputs": [
    {
     "name": "stdout",
     "output_type": "stream",
     "text": [
      "b'first solo event and i went to go see @enJOYRYDE, had an absolute blast and its great to see @Knock2Music getting s\\xe2\\x80\\xa6 https://t.co/2Fsc8ZUmch'\n",
      "b'@n0ned I got you I\\xe2\\x80\\x99ll swing by in 15 min'\n",
      "b'Being biracial each day I have to ask myself a very important question\\n\\nDo I want to be a swagapino, or a vietnasteez???'\n",
      "b\"RT @mnolangray: All the tough talk in Texas about how they don't want to turn the state into California, and yet here they are making all t\\xe2\\x80\\xa6\"\n",
      "b'RT @iamwhittt: Ian no sneaky link. Hold this hand in this grocery story ho'\n",
      "b'https://t.co/5cbou1KDHs'\n",
      "b'RT @alondraxxc: i cannot wait till father\\xe2\\x80\\x99s day to see all the fine ass dilfs \\xf0\\x9f\\x98\\xa9\\xf0\\x9f\\x98\\xa9'\n",
      "b'The pros apparently make 75k coming in last place??? I\\xe2\\x80\\x99m about to happy Gilmore my way to the PGA tour. https://t.co/utRjhqbaRI'\n",
      "b'RT @bloodskinteeth: (crying)   whats the move'\n",
      "b'RT @TPAIN: I DID IT BOIS!!!! Im officially a restaurant owner. Got my keys today and I\\xe2\\x80\\x99m scared as shit. BUT! I can no longer ignore the pa\\xe2\\x80\\xa6'\n",
      "b\"RT @johnsonloreno: How it started                       How it's going https://t.co/lf8ZPhp8tq\"\n",
      "b'The lads of GG Melee react to YOUR stylish combos \\xe2\\x9c\\xa8\\n\\nDid your submission make the cut? \\xf0\\x9f\\xa4\\x94\\n\\nFull video here:\\xe2\\x80\\xa6 https://t.co/wKaCeprsPg'\n",
      "b'https://t.co/SG0yfbBiNv'\n",
      "b'RT @shirtsthtgohard: https://t.co/WI6HRbqkJY'\n",
      "b'RT @shoheisaveus: Rendon walk off in the 9th | creators cut https://t.co/NxvJxdWrJB'\n",
      "b'@C9Mang0 Dont jinx it man'\n",
      "b'RT @Cloud9: Time to boot up the CRTs \\xf0\\x9f\\x93\\xba mang0.5 kicks off tonight, with #SmashSummit practice games all night long!\\n\\nWe\\xe2\\x80\\x99ll cap things off to\\xe2\\x80\\xa6'\n",
      "b'RT @eparillon: So a lot going on in this thread, but I do want to highlight the assumption that \"kids need a backyard\", and how that usuall\\xe2\\x80\\xa6'\n",
      "b'RT @wise_chimp: \"Practice your love languages on yourself\"\\n\\nPsychology Thread'\n",
      "b'@n0ned None covid is ok \\n\\nJust leave it with wizzyfan \\n\\n... ( ROFLLL )'\n"
     ]
    }
   ],
   "source": [
    "auth = tp.OAuthHandler('Q8PBHkfAQ8Mdu1Jb92xq6XrXk', 'Kq2sWTiwYVlce7H8tf2SDnb87AxcavLAOWOkvlrz3IC4PWFRv0')\n",
    "auth.set_access_token('872883949-S4Yl9enJQRoS5XaaLpq7KH7r0KNw467RvTDFvJZ3', 'rhygCZHSME87BlNLoHhl0ukChWXoe1zhphOkZxwa7tY3n')\n",
    "\n",
    "api = tp.API(auth)\n",
    "\n",
    "public_tweets = api.home_timeline()\n",
    "for tweet in public_tweets:\n",
    "    print(tweet.text.encode('utf-8'))"
   ]
  },
  {
   "cell_type": "code",
   "execution_count": 3,
   "id": "493196b9-826f-49ee-8d11-5edb0fa82e16",
   "metadata": {},
   "outputs": [
    {
     "name": "stdout",
     "output_type": "stream",
     "text": [
      "{'name': 'United States', 'placeType': {'code': 12, 'name': 'Country'}, 'url': 'http://where.yahooapis.com/v1/place/23424977', 'parentid': 1, 'country': 'United States', 'woeid': 23424977, 'countryCode': 'US'}\n"
     ]
    }
   ],
   "source": [
    "\n",
    "public_trends = api.available_trends()\n",
    "for tweet in public_trends:\n",
    "    if tweet['name'] == 'United States':\n",
    "        print(tweet)"
   ]
  },
  {
   "cell_type": "code",
   "execution_count": 4,
   "id": "8439f64f-5bda-487f-8883-ed0e8bebb837",
   "metadata": {},
   "outputs": [
    {
     "name": "stdout",
     "output_type": "stream",
     "text": [
      "{'trends': [{'name': 'Nestor', 'url': 'http://twitter.com/search?q=Nestor', 'promoted_content': None, 'query': 'Nestor', 'tweet_volume': 15994}, {'name': 'Jokic', 'url': 'http://twitter.com/search?q=Jokic', 'promoted_content': None, 'query': 'Jokic', 'tweet_volume': 95461}, {'name': '#showedupjustintime', 'url': 'http://twitter.com/search?q=%23showedupjustintime', 'promoted_content': None, 'query': '%23showedupjustintime', 'tweet_volume': None}, {'name': 'Bradberry', 'url': 'http://twitter.com/search?q=Bradberry', 'promoted_content': None, 'query': 'Bradberry', 'tweet_volume': None}, {'name': 'My 401k', 'url': 'http://twitter.com/search?q=%22My+401k%22', 'promoted_content': None, 'query': '%22My+401k%22', 'tweet_volume': None}, {'name': 'Pulitzer', 'url': 'http://twitter.com/search?q=Pulitzer', 'promoted_content': None, 'query': 'Pulitzer', 'tweet_volume': None}, {'name': 'Trotz', 'url': 'http://twitter.com/search?q=Trotz', 'promoted_content': None, 'query': 'Trotz', 'tweet_volume': 18217}, {'name': 'Newsmax', 'url': 'http://twitter.com/search?q=Newsmax', 'promoted_content': None, 'query': 'Newsmax', 'tweet_volume': 54262}, {'name': '#webcomicday', 'url': 'http://twitter.com/search?q=%23webcomicday', 'promoted_content': None, 'query': '%23webcomicday', 'tweet_volume': None}, {'name': 'Haaland', 'url': 'http://twitter.com/search?q=Haaland', 'promoted_content': None, 'query': 'Haaland', 'tweet_volume': 225937}, {'name': 'Embiid', 'url': 'http://twitter.com/search?q=Embiid', 'promoted_content': None, 'query': 'Embiid', 'tweet_volume': 78444}, {'name': 'James Cameron', 'url': 'http://twitter.com/search?q=%22James+Cameron%22', 'promoted_content': None, 'query': '%22James+Cameron%22', 'tweet_volume': 10115}, {'name': '#FUNERALGREY', 'url': 'http://twitter.com/search?q=%23FUNERALGREY', 'promoted_content': None, 'query': '%23FUNERALGREY', 'tweet_volume': None}, {'name': '#MondayMotivation', 'url': 'http://twitter.com/search?q=%23MondayMotivation', 'promoted_content': None, 'query': '%23MondayMotivation', 'tweet_volume': 113610}, {'name': '#AvatarTheWayOfWater', 'url': 'http://twitter.com/search?q=%23AvatarTheWayOfWater', 'promoted_content': None, 'query': '%23AvatarTheWayOfWater', 'tweet_volume': 19181}, {'name': 'Avatar 2', 'url': 'http://twitter.com/search?q=%22Avatar+2%22', 'promoted_content': None, 'query': '%22Avatar+2%22', 'tweet_volume': 21322}, {'name': 'FDNY', 'url': 'http://twitter.com/search?q=FDNY', 'promoted_content': None, 'query': 'FDNY', 'tweet_volume': 84149}, {'name': 'RUN BTS', 'url': 'http://twitter.com/search?q=%22RUN+BTS%22', 'promoted_content': None, 'query': '%22RUN+BTS%22', 'tweet_volume': 270844}, {'name': 'Philippines', 'url': 'http://twitter.com/search?q=Philippines', 'promoted_content': None, 'query': 'Philippines', 'tweet_volume': 473537}, {'name': 'Adreian Payne', 'url': 'http://twitter.com/search?q=%22Adreian+Payne%22', 'promoted_content': None, 'query': '%22Adreian+Payne%22', 'tweet_volume': 16593}, {'name': 'Antoine Davis', 'url': 'http://twitter.com/search?q=%22Antoine+Davis%22', 'promoted_content': None, 'query': '%22Antoine+Davis%22', 'tweet_volume': None}, {'name': 'Eli White', 'url': 'http://twitter.com/search?q=%22Eli+White%22', 'promoted_content': None, 'query': '%22Eli+White%22', 'tweet_volume': None}, {'name': 'John Brown', 'url': 'http://twitter.com/search?q=%22John+Brown%22', 'promoted_content': None, 'query': '%22John+Brown%22', 'tweet_volume': None}, {'name': 'Gettleman', 'url': 'http://twitter.com/search?q=Gettleman', 'promoted_content': None, 'query': 'Gettleman', 'tweet_volume': None}, {'name': 'Nuggets', 'url': 'http://twitter.com/search?q=Nuggets', 'promoted_content': None, 'query': 'Nuggets', 'tweet_volume': 32267}, {'name': 'City Girls', 'url': 'http://twitter.com/search?q=%22City+Girls%22', 'promoted_content': None, 'query': '%22City+Girls%22', 'tweet_volume': None}, {'name': 'Jon Gray', 'url': 'http://twitter.com/search?q=%22Jon+Gray%22', 'promoted_content': None, 'query': '%22Jon+Gray%22', 'tweet_volume': None}, {'name': 'RIP AP', 'url': 'http://twitter.com/search?q=%22RIP+AP%22', 'promoted_content': None, 'query': '%22RIP+AP%22', 'tweet_volume': None}, {'name': 'Christine Blasey Ford', 'url': 'http://twitter.com/search?q=%22Christine+Blasey+Ford%22', 'promoted_content': None, 'query': '%22Christine+Blasey+Ford%22', 'tweet_volume': 65594}, {'name': '5sos5', 'url': 'http://twitter.com/search?q=5sos5', 'promoted_content': None, 'query': '5sos5', 'tweet_volume': None}, {'name': 'Friendo', 'url': 'http://twitter.com/search?q=Friendo', 'promoted_content': None, 'query': 'Friendo', 'tweet_volume': None}, {'name': 'Joker', 'url': 'http://twitter.com/search?q=Joker', 'promoted_content': None, 'query': 'Joker', 'tweet_volume': 56487}, {'name': 'Shiro', 'url': 'http://twitter.com/search?q=Shiro', 'promoted_content': None, 'query': 'Shiro', 'tweet_volume': 36338}, {'name': 'Michael Kay', 'url': 'http://twitter.com/search?q=%22Michael+Kay%22', 'promoted_content': None, 'query': '%22Michael+Kay%22', 'tweet_volume': None}, {'name': 'Marcos', 'url': 'http://twitter.com/search?q=Marcos', 'promoted_content': None, 'query': 'Marcos', 'tweet_volume': 434382}, {'name': 'Kwon', 'url': 'http://twitter.com/search?q=Kwon', 'promoted_content': None, 'query': 'Kwon', 'tweet_volume': 16073}, {'name': 'MVPs', 'url': 'http://twitter.com/search?q=MVPs', 'promoted_content': None, 'query': 'MVPs', 'tweet_volume': 10537}, {'name': 'Islanders', 'url': 'http://twitter.com/search?q=Islanders', 'promoted_content': None, 'query': 'Islanders', 'tweet_volume': None}, {'name': 'Money Trees', 'url': 'http://twitter.com/search?q=%22Money+Trees%22', 'promoted_content': None, 'query': '%22Money+Trees%22', 'tweet_volume': None}, {'name': 'Lay Lay', 'url': 'http://twitter.com/search?q=%22Lay+Lay%22', 'promoted_content': None, 'query': '%22Lay+Lay%22', 'tweet_volume': 87982}, {'name': 'mutual monday', 'url': 'http://twitter.com/search?q=%22mutual+monday%22', 'promoted_content': None, 'query': '%22mutual+monday%22', 'tweet_volume': None}, {'name': 'Pierre McGuire', 'url': 'http://twitter.com/search?q=%22Pierre+McGuire%22', 'promoted_content': None, 'query': '%22Pierre+McGuire%22', 'tweet_volume': None}, {'name': 'Boone', 'url': 'http://twitter.com/search?q=Boone', 'promoted_content': None, 'query': 'Boone', 'tweet_volume': None}, {'name': 'Joel', 'url': 'http://twitter.com/search?q=Joel', 'promoted_content': None, 'query': 'Joel', 'tweet_volume': 52405}, {'name': 'Steve Nash', 'url': 'http://twitter.com/search?q=%22Steve+Nash%22', 'promoted_content': None, 'query': '%22Steve+Nash%22', 'tweet_volume': None}, {'name': 'JUST ANNOUNCED', 'url': 'http://twitter.com/search?q=%22JUST+ANNOUNCED%22', 'promoted_content': None, 'query': '%22JUST+ANNOUNCED%22', 'tweet_volume': 23892}, {'name': 'Tony Gwynn', 'url': 'http://twitter.com/search?q=%22Tony+Gwynn%22', 'promoted_content': None, 'query': '%22Tony+Gwynn%22', 'tweet_volume': None}, {'name': 'Daily Quordle 105', 'url': 'http://twitter.com/search?q=%22Daily+Quordle+105%22', 'promoted_content': None, 'query': '%22Daily+Quordle+105%22', 'tweet_volume': None}, {'name': 'Hollyberry', 'url': 'http://twitter.com/search?q=Hollyberry', 'promoted_content': None, 'query': 'Hollyberry', 'tweet_volume': None}, {'name': 'Bitcoin', 'url': 'http://twitter.com/search?q=Bitcoin', 'promoted_content': None, 'query': 'Bitcoin', 'tweet_volume': 449187}], 'as_of': '2022-05-09T19:42:20Z', 'created_at': '2022-05-07T22:14:47Z', 'locations': [{'name': 'United States', 'woeid': 23424977}]}\n"
     ]
    }
   ],
   "source": [
    "us_trends = api.get_place_trends(23424977)\n",
    "for tweet in us_trends:\n",
    "    print (tweet)"
   ]
  },
  {
   "cell_type": "code",
   "execution_count": 8,
   "id": "ef3c284d-f35a-425e-a07e-c5c2183ec9df",
   "metadata": {
    "tags": []
   },
   "outputs": [],
   "source": [
    "us_trend_search = api.search_tweets(q = 'Putin', geocode = '39.52641938727767,-98.15696645901633,1400mi', result_type = 'popular')\n",
    "for tweet in us_trend_search:\n",
    "    print(tweet.text)"
   ]
  },
  {
   "cell_type": "code",
   "execution_count": 9,
   "id": "83dbbd5d-2c03-4865-9ac3-e5ee11404c0f",
   "metadata": {},
   "outputs": [
    {
     "data": {
      "text/plain": [
       "tweepy.models.SearchResults"
      ]
     },
     "execution_count": 9,
     "metadata": {},
     "output_type": "execute_result"
    }
   ],
   "source": [
    "type(us_trend_search)"
   ]
  },
  {
   "cell_type": "code",
   "execution_count": 10,
   "id": "be5690be-1486-4fa2-9217-a382589d0930",
   "metadata": {},
   "outputs": [
    {
     "data": {
      "text/plain": [
       "[]"
      ]
     },
     "execution_count": 10,
     "metadata": {},
     "output_type": "execute_result"
    }
   ],
   "source": [
    "us_trend_search"
   ]
  },
  {
   "cell_type": "code",
   "execution_count": 14,
   "id": "b79d2a1f-81e4-47b8-bea3-22c6188cb6dd",
   "metadata": {},
   "outputs": [
    {
     "name": "stderr",
     "output_type": "stream",
     "text": [
      "Unexpected parameter: id\n"
     ]
    },
    {
     "name": "stdout",
     "output_type": "stream",
     "text": [
      "Tom House got a doctorate to better understand how pitchers think. So profound are his theories about how human arm… https://t.co/JNfvnUMoHZ\n",
      "Another New York Times reporter, Andrea Elliott, won the Pulitzer Prize in the general nonfiction category for her… https://t.co/milPuiqXFW\n",
      "Salamishah Tillet, a contributing critic at large at The New York Times, won the 2022 Pulitzer Prize for Criticism,… https://t.co/B1l7L2t2BN\n",
      "The staff of The New York Times won the 2022 Pulitzer Prize for National Reporting for revealing the killings of hu… https://t.co/wHK0iD4Jmt\n",
      "The staff of The New York Times won the 2022 Pulitzer Prize for International Reporting for revealing the hidden ca… https://t.co/pOkySGVjHU\n",
      "Breaking News: The New York Times won awards for investigative journalism and cultural criticism. The Washington Po… https://t.co/C2Ab9x8gMm\n",
      "Three Americans died under mysterious circumstances and another was hospitalized on Friday while they were staying… https://t.co/jDo6BUdFym\n",
      "Breaking News: Ferdinand Marcos Jr., the son of an exiled dictator, is set to win a sweeping presidential victory i… https://t.co/fIo1IzYbD5\n",
      "\"I’m not paying $15 for a quart of strawberries. Not doing it.\"\n",
      "\n",
      "A woman had a low-enough income to qualify for a H… https://t.co/pdwcPuNBPD\n",
      "Elizabeth Olsen started as an indie darling and never expected to become a Marvel linchpin as Wanda Maximoff. “I ha… https://t.co/Lhiai3OMu5\n",
      "The Republican primary on Tuesday between Representatives David McKinley and Alex Mooney in West Virginia will sign… https://t.co/0nonjVRnEu\n",
      "Use our calculator to estimate your rate of inflation based on how much more or less you spend on different product… https://t.co/6UGljq53wS\n",
      "The cost of housing — whether in a rent check or a mortgage payment — is the biggest monthly expense for many. But… https://t.co/NSEQywhWpt\n",
      "Perhaps the clearest case study in how people experience inflation differently is gasoline. Gas prices have shot up… https://t.co/bs79UK1BCa\n",
      "Prices are rising pretty much across the board now, but the increases are particularly rapid in some categories, li… https://t.co/R7bT9aUmx0\n",
      "What is your personal inflation rate? Inflation is at the highest level in four decades, but how you experience it… https://t.co/yCBt0fq1jN\n",
      "The 68-year-old woman had an itch so severe she wanted to scrape her skin from her body. She often wore thick cotto… https://t.co/cIG4a8mfUB\n",
      "President Volodymyr Zelensky honored the bomb-sniffing dog Patron on Sunday. The dog, whose name means \"ammo\" in Uk… https://t.co/V3487hCDnb\n",
      "Yuri Averbakh, a Russian chess grandmaster who was among the world’s best players for a decade, died on Saturday in… https://t.co/bGdciQyaAv\n",
      "Gov. Kathy Hochul wants to renovate Pennsylvania Station and pay for the improvements through a larger real estate… https://t.co/8oL44JVXH7\n"
     ]
    }
   ],
   "source": [
    "# Creating the API object while passing in auth information\n",
    "api = tp.API(auth)\n",
    "\n",
    "# The Twitter user who we want to get tweets from\n",
    "name = \"nytimes\"\n",
    "# Number of tweets to pull\n",
    "tweetCount = 20\n",
    "\n",
    "# Calling the user_timeline function with our parameters\n",
    "results = api.user_timeline(id=name, count=tweetCount)\n",
    "\n",
    "# foreach through all tweets pulled\n",
    "for tweet in results:\n",
    "   # printing the text stored inside the tweet object\n",
    "   print (tweet.text)"
   ]
  },
  {
   "cell_type": "code",
   "execution_count": 33,
   "id": "39b323ba-4568-4ad2-8b89-7099c9420e75",
   "metadata": {},
   "outputs": [
    {
     "name": "stdout",
     "output_type": "stream",
     "text": [
      "BariKeenam Tweeted: @toptal Thanks for having me ✨ 0.4404\n",
      "toptal Tweeted: @BariKeenam Welcome aboard, Bariledum. 0.4767\n",
      "Fabriciosx Tweeted: RT @toptal: In search of a fresh brand identity, @GinniMedia partnered with a team from Toptal to help them create an aesthetic that matche… 0.7269\n",
      "RichyAbiChahla Tweeted: RT @toptal: In search of a fresh brand identity, @GinniMedia partnered with a team from Toptal to help them create an aesthetic that matche… 0.7269\n",
      "Matome_thata Tweeted: RT @denicmarko: Freelancing platforms:\n",
      "\n",
      "https://t.co/TIpEXgUQwC\n",
      "https://t.co/q6oNTvDL3i\n",
      "https://t.co/yBQQ3eeOKj\n",
      "https://t.co/krm7Zjbl7v\n",
      "htt… 0.1027\n",
      "favoured_mhe Tweeted: RT @BariKeenam: I'm a @toptal brand designer now ✨ 0.0\n",
      "trust_ay Tweeted: @BariKeenam @toptal Congratulations ✨️✨️ 0.5994\n",
      "_olashubomii Tweeted: RT @BariKeenam: I'm a @toptal brand designer now ✨ 0.0\n",
      "iigudy Tweeted: RT @BariKeenam: I'm a @toptal brand designer now ✨ 0.0\n",
      "Pam_Nanet Tweeted: Designing, like dance, correlates so much with real-life lessons. This dope read about taking off doing things with… https://t.co/Ty4kFE6JQe 0.3612\n",
      "amacnab7 Tweeted: RT @vizypay: This article from Toptal covers 5 lessons from fast-growing Tech, Energy, and Fintech Companies, featuring some insight from A… 0.2732\n",
      "AYOTHEMIDE Tweeted: RT @BariKeenam: I'm a @toptal brand designer now ✨ 0.0\n",
      "BariKeenam Tweeted: @Sophyaabiola @toptal Thanks Sophie 0.4404\n",
      "elroychibex Tweeted: @BariKeenam @toptal Never heard of 'Brand designer' on Toptal. Big congrats man 0.5267\n",
      "archivepluto Tweeted: @BariKeenam @toptal congratulations 👏 0.5994\n"
     ]
    }
   ],
   "source": [
    "# Creating the API object while passing in auth information\n",
    "api = tp.API(auth)\n",
    "\n",
    "# The search term you want to find\n",
    "query = \"Toptal\"\n",
    "# Language code (follows ISO 639-1 standards)\n",
    "language = \"en\"\n",
    "\n",
    "# Calling the user_timeline function with our parameters\n",
    "results = api.search_tweets(q=query, lang=language)\n",
    "\n",
    "# foreach through all tweets pulled\n",
    "for tweet in results:\n",
    "   # printing the text stored inside the tweet object\n",
    "   print (tweet.user.screen_name,\"Tweeted:\",tweet.text, sent.polarity_scores(tweet.text).get('compound'))"
   ]
  },
  {
   "cell_type": "code",
   "execution_count": 23,
   "id": "7300fd80-bddc-40e9-a38e-2eeb3c95b9eb",
   "metadata": {},
   "outputs": [
    {
     "ename": "AttributeError",
     "evalue": "'SearchResults' object has no attribute 'tweet'",
     "output_type": "error",
     "traceback": [
      "\u001b[0;31m---------------------------------------------------------------------------\u001b[0m",
      "\u001b[0;31mAttributeError\u001b[0m                            Traceback (most recent call last)",
      "\u001b[0;32m<ipython-input-23-b298916940f0>\u001b[0m in \u001b[0;36m<module>\u001b[0;34m\u001b[0m\n\u001b[0;32m----> 1\u001b[0;31m \u001b[0mprint\u001b[0m \u001b[0;34m(\u001b[0m\u001b[0mresults\u001b[0m\u001b[0;34m.\u001b[0m\u001b[0mtweet\u001b[0m\u001b[0;34m.\u001b[0m\u001b[0mtext\u001b[0m\u001b[0;34m)\u001b[0m\u001b[0;34m\u001b[0m\u001b[0;34m\u001b[0m\u001b[0m\n\u001b[0m",
      "\u001b[0;31mAttributeError\u001b[0m: 'SearchResults' object has no attribute 'tweet'"
     ]
    }
   ],
   "source": [
    "print (results.tweet.text)"
   ]
  },
  {
   "cell_type": "code",
   "execution_count": 29,
   "id": "4e3fe924-478c-41cf-913b-6cfdcee8094a",
   "metadata": {},
   "outputs": [],
   "source": [
    "# initializing our text processors\n",
    "sent = SentimentIntensityAnalyzer()\n",
    "tokenizer_1 = RegexpTokenizer('\\w+|\\$[\\d\\.]+|\\S+')\n",
    "lemmatizer = WordNetLemmatizer()"
   ]
  },
  {
   "cell_type": "code",
   "execution_count": 34,
   "id": "2112cbaf-ad9c-49a7-800c-00e8eb90192e",
   "metadata": {},
   "outputs": [
    {
     "data": {
      "text/plain": [
       "{'neg': 1.0, 'neu': 0.0, 'pos': 0.0, 'compound': -0.5859}"
      ]
     },
     "execution_count": 34,
     "metadata": {},
     "output_type": "execute_result"
    }
   ],
   "source": [
    "sent.polarity_scores(\"Bitch\")"
   ]
  },
  {
   "cell_type": "code",
   "execution_count": null,
   "id": "092c25cc-e393-4c71-b2b7-d211634c4c4e",
   "metadata": {},
   "outputs": [],
   "source": []
  }
 ],
 "metadata": {
  "kernelspec": {
   "display_name": "Python 3",
   "language": "python",
   "name": "python3"
  },
  "language_info": {
   "codemirror_mode": {
    "name": "ipython",
    "version": 3
   },
   "file_extension": ".py",
   "mimetype": "text/x-python",
   "name": "python",
   "nbconvert_exporter": "python",
   "pygments_lexer": "ipython3",
   "version": "3.8.8"
  }
 },
 "nbformat": 4,
 "nbformat_minor": 5
}
