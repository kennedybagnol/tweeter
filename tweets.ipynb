{
 "cells": [
  {
   "cell_type": "code",
   "execution_count": 12,
   "id": "bf7fb999-17a2-403c-ade7-556e2c1eb099",
   "metadata": {},
   "outputs": [
    {
     "name": "stdout",
     "output_type": "stream",
     "text": [
      "showing info https://raw.githubusercontent.com/nltk/nltk_data/gh-pages/index.xml\n"
     ]
    }
   ],
   "source": [
    "import pandas as pd\n",
    "import numpy as np\n",
    "import tweepy as tp\n",
    "import nltk.data\n",
    "nltk.download()\n",
    "from nltk.sentiment.vader import SentimentIntensityAnalyzer\n",
    "from nltk.tokenize import sent_tokenize, word_tokenize, RegexpTokenizer\n",
    "from nltk.stem import WordNetLemmatizer"
   ]
  },
  {
   "cell_type": "code",
   "execution_count": 13,
   "id": "ede5ba61-6268-4ec5-a5e9-02a616842759",
   "metadata": {},
   "outputs": [
    {
     "name": "stdout",
     "output_type": "stream",
     "text": [
      "b'honestly i think my role model is julia child'\n",
      "b'From the verbiage to hairstyles, it\\xe2\\x80\\x99s simply anti-Black. https://t.co/OS9QukNCM1'\n",
      "b'Patience was key for us finding the perfect time to strike in order to get a very pivotal win. Make sure you always\\xe2\\x80\\xa6 https://t.co/q8Lp9exj9E'\n",
      "b'That final team fight last weekend certainly was one for the ages!\\n\\nHear all the best moments from our final regula\\xe2\\x80\\xa6 https://t.co/PrrtbrVkzB'\n",
      "b'Image prediction: Siamese cat\\nConfidence: 15.43%\\nSubmission by @waffluffe https://t.co/SkgT1gikPl'\n",
      "b\"PS5 public queue open at PlayStation Direct - join here if you're looking for a console (US Only)\\n\\n\\xe2\\x9e\\xa1\\xef\\xb8\\x8f\\xe2\\x80\\xa6 https://t.co/CA7VK5R1tf\"\n",
      "b'RT @MalikThaElite: \\xe2\\x80\\xa2 The amount of microaggressions I deal with has dropped by like 70%\\n\\xe2\\x80\\xa2 I\\xe2\\x80\\x99m (mostly) unaffected by the insane gas prices.\\xe2\\x80\\xa6'\n",
      "b'back throw frc combo from wallslump situation with HC, does wayyy more damage and is almost meter even than forward\\xe2\\x80\\xa6 https://t.co/MQfWOCCkCt'\n",
      "b\"RT @Lakers: A Champion, legend, and forever part of the Lakers Family.\\n\\n3/7/23 - We raise Pau Gasol's jersey into the rafters https://t.co/\\xe2\\x80\\xa6\"\n",
      "b'RT @LAClippers: NEVER SLEEP.\\n\\n\\xf0\\x9f\\x8e\\xb5: @beatsbynav (with @lilbaby4PF)\\n\\n\\xe2\\x80\\x9cNever Sleep\\xe2\\x80\\x9d\\nXO Records / Republic Records https://t.co/OCaSJYkzIf'\n",
      "b'@ahaha_hahahahah you didn\\xe2\\x80\\x99t have to gag em like this'\n",
      "b'What a work-life balance actually looks like https://t.co/nSc032ZSz6'\n",
      "b'RT @teneikaask_you: Certs, clearances and experience will push you on the larger end of this band but this is how bad everyone needs cybers\\xe2\\x80\\xa6'\n",
      "b'Been tweeting about this for a while. The world of data end cyber security are the places to be in! https://t.co/DEOOlxnllG'\n",
      "b'Those interested in the data space \\xf0\\x9f\\x91\\x87\\xf0\\x9f\\x8f\\xbd https://t.co/64pFjBD98Q'\n",
      "b'This is amazing \\xf0\\x9f\\x91\\x8f\\xf0\\x9f\\x8f\\xbd what a beautiful story https://t.co/hr2s1SrkPu'\n",
      "b'And probably no more micro aggressions? \\xf0\\x9f\\x91\\x80 https://t.co/buQsKYzQ0d'\n",
      "b'Black &amp; Hispanic people who work remote, how has working remote changed your life? \\n\\nFeel free to share anything. https://t.co/pCJJzQnyvI'\n",
      "b'Companies don\\xe2\\x80\\x99t care about loyalty, but expect you to do so \\xf0\\x9f\\x98\\x82 https://t.co/cC9i71Yst4'\n"
     ]
    }
   ],
   "source": [
    "auth = tp.OAuthHandler('Q8PBHkfAQ8Mdu1Jb92xq6XrXk', 'Kq2sWTiwYVlce7H8tf2SDnb87AxcavLAOWOkvlrz3IC4PWFRv0')\n",
    "auth.set_access_token('872883949-S4Yl9enJQRoS5XaaLpq7KH7r0KNw467RvTDFvJZ3', 'rhygCZHSME87BlNLoHhl0ukChWXoe1zhphOkZxwa7tY3n')\n",
    "\n",
    "api = tp.API(auth)\n",
    "\n",
    "public_tweets = api.home_timeline()\n",
    "for tweet in public_tweets:\n",
    "    print(tweet.text.encode('utf-8'))"
   ]
  },
  {
   "cell_type": "code",
   "execution_count": 14,
   "id": "493196b9-826f-49ee-8d11-5edb0fa82e16",
   "metadata": {},
   "outputs": [
    {
     "name": "stdout",
     "output_type": "stream",
     "text": [
      "{'name': 'United States', 'placeType': {'code': 12, 'name': 'Country'}, 'url': 'http://where.yahooapis.com/v1/place/23424977', 'parentid': 1, 'country': 'United States', 'woeid': 23424977, 'countryCode': 'US'}\n"
     ]
    }
   ],
   "source": [
    "\n",
    "public_trends = api.available_trends()\n",
    "for tweet in public_trends:\n",
    "    if tweet['name'] == 'United States':\n",
    "        print(tweet)"
   ]
  },
  {
   "cell_type": "code",
   "execution_count": 71,
   "id": "8439f64f-5bda-487f-8883-ed0e8bebb837",
   "metadata": {},
   "outputs": [
    {
     "name": "stdout",
     "output_type": "stream",
     "text": [
      "#PMSLiveAtCamp\n",
      "#LockTrumpUp\n",
      "#Madden23\n",
      "Lakers\n",
      "#BlackCatAppreciationDay\n",
      "Papa John\n",
      "#NationalNonprofitDay\n",
      "Pence\n",
      "michael clifford\n",
      "Anne Frank\n",
      "Cudi\n",
      "NBA TV\n",
      "Xbox series\n",
      "LeBron James\n",
      "Bronny\n",
      "Jon Daniels\n",
      "Ray Davis\n",
      "Arc 3.0\n",
      "Slam Diego\n",
      "Pistons\n",
      "The Secret Service\n",
      "Lee Pace\n",
      "Ben Shelton\n",
      "Jenna Ortega\n",
      "Ross Stripling\n",
      "jack manifold\n",
      "FOMC\n",
      "Hornets\n",
      "Shirley Chisholm\n",
      "Elvis Andrus\n",
      "Pau Gasol\n",
      "Wednesday Addams\n",
      "Tim Burton\n",
      "Breaking History\n",
      "Luma\n",
      "Taylor Lautner\n",
      "Pablo Lopez\n",
      "PlayStation 5\n",
      "Ocho\n",
      "Illey\n",
      "Piece of My Heart\n",
      "Lost in Riddim\n",
      "Raul Julia\n",
      "Chris Young\n",
      "Walensky\n",
      "Xbox One\n",
      "Mahle\n",
      "Pacers\n",
      "Dino\n",
      "Stanbury\n"
     ]
    }
   ],
   "source": [
    "us_trends = api.get_place_trends(23424977)\n",
    "for i in range(len(us_trends[0].get('trends'))):\n",
    "    print (us_trends[0].get('trends')[i]['name'])"
   ]
  },
  {
   "cell_type": "code",
   "execution_count": 76,
   "id": "d59cac1d-fbe2-4faa-995b-4d51ea26f967",
   "metadata": {},
   "outputs": [
    {
     "name": "stdout",
     "output_type": "stream",
     "text": [
      "#PMSLiveAtCamp 0.17704666666666669\n",
      "#LockTrumpUp 0.16788\n",
      "Lakers 0.47008000000000005\n",
      "#Madden23 0.5843000000000002\n",
      "#BlackCatAppreciationDay 0.45996\n",
      "Papa John -0.004940000000000011\n",
      "michael clifford 0.20528666666666667\n",
      "#NationalNonprofitDay 0.6608533333333333\n",
      "Pence -0.15360000000000001\n",
      "Anne Frank 0.0023933333333333363\n",
      "LeBron James 0.3205333333333334\n",
      "Cudi 0.06370666666666666\n",
      "NBA TV 0.05734000000000001\n",
      "Xbox series 0.052706666666666666\n",
      "Slam Diego -0.3135928571428572\n",
      "Bronny -0.010920000000000004\n",
      "Ray Davis -0.10148\n",
      "Pistons 0.20881333333333335\n",
      "Ross Stripling 0.38495333333333337\n",
      "Jon Daniels 0.04753999999999999\n",
      "Lee Pace 0.23448000000000005\n",
      "Ben Shelton 0.06916666666666667\n",
      "Jokic 0.26300666666666667\n",
      "Hornets -0.05484666666666667\n",
      "Arc 3.0 0.2560733333333333\n",
      "The Secret Service -0.3189733333333333\n",
      "Jenna Ortega -0.21277333333333331\n",
      "Pablo Lopez 0.09973333333333333\n",
      "Pau Gasol 0.47952000000000006\n",
      "Shirley Chisholm 0.07495999999999998\n",
      "jack manifold 0.12035333333333333\n",
      "Wednesday Addams 0.0\n",
      "Elvis Andrus 0.10073333333333334\n",
      "Tim Burton -0.31445333333333336\n",
      "Taylor Lautner 0.01677333333333333\n",
      "Ocho 0.012606666666666662\n",
      "FOMC -0.012286666666666663\n",
      "Luma -0.05989333333333333\n",
      "Ryan Cohen 0.33915999999999996\n",
      "Breaking History 0.3403733333333333\n",
      "PlayStation 5 0.12337333333333333\n",
      "Raul Julia 0.2531933333333333\n",
      "Lost in Riddim -0.060350000000000015\n",
      "Piece of My Heart 0.1653666666666667\n",
      "Illey 0.12936666666666669\n",
      "Pacers 0.004893333333333331\n",
      "Chris Young 0.08048666666666665\n",
      "Walensky -0.17560000000000003\n",
      "Xbox One 0.16469999999999999\n",
      "Serbia 0.38338\n"
     ]
    }
   ],
   "source": [
    "us_trends = api.get_place_trends(23424977)\n",
    "for i in range(len(us_trends[0].get('trends'))):\n",
    "    api = tp.API(auth)\n",
    "\n",
    "    # The search term you want to find\n",
    "    query = us_trends[0].get('trends')[i]['name']\n",
    "    # Language code (follows ISO 639-1 standards)\n",
    "    language = \"en\"\n",
    "\n",
    "    # Calling the user_timeline function with our parameters\n",
    "    results = api.search_tweets(q=query, lang=language)\n",
    "\n",
    "    # foreach through all tweets pulled\n",
    "    cmp = 0\n",
    "    cnt = 0\n",
    "    for tweet in results:\n",
    "        \n",
    "           # printing the text stored inside the tweet object\n",
    "        cnt += 1\n",
    "        cmp += sent.polarity_scores(tweet.text).get('compound') \n",
    "        \n",
    "    print (us_trends[0].get('trends')[i]['name'] + ' ' + str(cmp/cnt))\n"
   ]
  },
  {
   "cell_type": "code",
   "execution_count": null,
   "id": "b7e2860c-0785-427c-97b8-1d955369deee",
   "metadata": {},
   "outputs": [],
   "source": [
    "# Creating the API object while passing in auth information\n",
    "api = tp.API(auth)\n",
    "\n",
    "# The search term you want to find\n",
    "query = \"Apple\"\n",
    "# Language code (follows ISO 639-1 standards)\n",
    "language = \"en\"\n",
    "\n",
    "# Calling the user_timeline function with our parameters\n",
    "results = api.search_tweets(q=query, lang=language)\n",
    "\n",
    "# foreach through all tweets pulled\n",
    "for tweet in results:\n",
    "   # printing the text stored inside the tweet object\n",
    "   print (tweet.user.screen_name,\"Tweeted:\",tweet.text, sent.polarity_scores(tweet.text).get('compound'))"
   ]
  },
  {
   "cell_type": "code",
   "execution_count": 70,
   "id": "03a6b2de-b57d-47f9-a627-898271f86e70",
   "metadata": {},
   "outputs": [
    {
     "data": {
      "text/plain": [
       "50"
      ]
     },
     "execution_count": 70,
     "metadata": {},
     "output_type": "execute_result"
    }
   ],
   "source": [
    "len(us_trends[0].get('trends'))"
   ]
  },
  {
   "cell_type": "code",
   "execution_count": 35,
   "id": "ef3c284d-f35a-425e-a07e-c5c2183ec9df",
   "metadata": {
    "tags": []
   },
   "outputs": [
    {
     "name": "stdout",
     "output_type": "stream",
     "text": [
      "“Anti-war russians” could’ve been more “anti-war” should they stay in russia &amp; work hard to remove criminal putin’s… https://t.co/tX2cWg9kL2\n"
     ]
    }
   ],
   "source": [
    "us_trend_search = api.search_tweets(q = 'Putin', geocode = '39.52641938727767,-98.15696645901633,1400mi', result_type = 'popular')\n",
    "for tweet in us_trend_search:\n",
    "    print(tweet.text)"
   ]
  },
  {
   "cell_type": "code",
   "execution_count": null,
   "id": "83dbbd5d-2c03-4865-9ac3-e5ee11404c0f",
   "metadata": {},
   "outputs": [
    {
     "data": {
      "text/plain": [
       "tweepy.models.SearchResults"
      ]
     },
     "execution_count": 17,
     "metadata": {},
     "output_type": "execute_result"
    }
   ],
   "source": [
    "type(us_trend_search)"
   ]
  },
  {
   "cell_type": "code",
   "execution_count": null,
   "id": "be5690be-1486-4fa2-9217-a382589d0930",
   "metadata": {
    "collapsed": true,
    "jupyter": {
     "outputs_hidden": true
    },
    "tags": []
   },
   "outputs": [
    {
     "data": {
      "text/plain": [
       "[Status(_api=<tweepy.api.API object at 0x7fd0f29ba310>, _json={'created_at': 'Tue Aug 16 01:35:57 +0000 2022', 'id': 1559353236510883842, 'id_str': '1559353236510883842', 'text': '“Anti-war russians” could’ve been more “anti-war” should they stay in russia &amp; work hard to remove criminal putin’s… https://t.co/tX2cWg9kL2', 'truncated': True, 'entities': {'hashtags': [], 'symbols': [], 'user_mentions': [], 'urls': [{'url': 'https://t.co/tX2cWg9kL2', 'expanded_url': 'https://twitter.com/i/web/status/1559353236510883842', 'display_url': 'twitter.com/i/web/status/1…', 'indices': [121, 144]}]}, 'metadata': {'result_type': 'popular', 'iso_language_code': 'en'}, 'source': '<a href=\"http://twitter.com/download/iphone\" rel=\"nofollow\">Twitter for iPhone</a>', 'in_reply_to_status_id': None, 'in_reply_to_status_id_str': None, 'in_reply_to_user_id': None, 'in_reply_to_user_id_str': None, 'in_reply_to_screen_name': None, 'user': {'id': 2392201764, 'id_str': '2392201764', 'name': 'Sergiy Kyslytsya', 'screen_name': 'SergiyKyslytsya', 'location': 'New York, NY', 'description': \"Permanent Representative of Ukraine @UKRinUN Views are personal and aren't government's position unless it's clearly & explicitly indicated Ретвіти ≠ схвалення\", 'url': 'https://t.co/z8WnUcEajf', 'entities': {'url': {'urls': [{'url': 'https://t.co/z8WnUcEajf', 'expanded_url': 'http://ukraineun.org', 'display_url': 'ukraineun.org', 'indices': [0, 23]}]}, 'description': {'urls': []}}, 'protected': False, 'followers_count': 86910, 'friends_count': 1862, 'listed_count': 761, 'created_at': 'Sun Mar 16 06:24:55 +0000 2014', 'favourites_count': 7218, 'utc_offset': None, 'time_zone': None, 'geo_enabled': True, 'verified': True, 'statuses_count': 13493, 'lang': None, 'contributors_enabled': False, 'is_translator': False, 'is_translation_enabled': False, 'profile_background_color': 'C0DEED', 'profile_background_image_url': 'http://abs.twimg.com/images/themes/theme1/bg.png', 'profile_background_image_url_https': 'https://abs.twimg.com/images/themes/theme1/bg.png', 'profile_background_tile': False, 'profile_image_url': 'http://pbs.twimg.com/profile_images/1229289787049246720/nEIK2wGq_normal.jpg', 'profile_image_url_https': 'https://pbs.twimg.com/profile_images/1229289787049246720/nEIK2wGq_normal.jpg', 'profile_banner_url': 'https://pbs.twimg.com/profile_banners/2392201764/1419861879', 'profile_link_color': '1DA1F2', 'profile_sidebar_border_color': 'C0DEED', 'profile_sidebar_fill_color': 'DDEEF6', 'profile_text_color': '333333', 'profile_use_background_image': True, 'has_extended_profile': False, 'default_profile': True, 'default_profile_image': False, 'following': False, 'follow_request_sent': False, 'notifications': False, 'translator_type': 'none', 'withheld_in_countries': []}, 'geo': None, 'coordinates': None, 'place': {'id': '65b4760a2b411e11', 'url': 'https://api.twitter.com/1.1/geo/id/65b4760a2b411e11.json', 'place_type': 'admin', 'name': 'New Jersey', 'full_name': 'New Jersey, USA', 'country_code': 'US', 'country': 'United States', 'contained_within': [], 'bounding_box': {'type': 'Polygon', 'coordinates': [[[-75.563587, 38.788657], [-73.88506, 38.788657], [-73.88506, 41.357424], [-75.563587, 41.357424]]]}, 'attributes': {}}, 'contributors': None, 'is_quote_status': True, 'quoted_status_id': 1559311462702645248, 'quoted_status_id_str': '1559311462702645248', 'quoted_status': {'created_at': 'Mon Aug 15 22:49:57 +0000 2022', 'id': 1559311462702645248, 'id_str': '1559311462702645248', 'text': \"German Chancellor Olaf Scholz's attendance at the Nordic Summit underscores Germany's desire to cooperate with Nord… https://t.co/NFcDzPcwTo\", 'truncated': True, 'entities': {'hashtags': [], 'symbols': [], 'user_mentions': [], 'urls': [{'url': 'https://t.co/NFcDzPcwTo', 'expanded_url': 'https://twitter.com/i/web/status/1559311462702645248', 'display_url': 'twitter.com/i/web/status/1…', 'indices': [117, 140]}]}, 'metadata': {'result_type': 'popular', 'iso_language_code': 'en'}, 'source': '<a href=\"https://mobile.twitter.com\" rel=\"nofollow\">Twitter Web App</a>', 'in_reply_to_status_id': None, 'in_reply_to_status_id_str': None, 'in_reply_to_user_id': None, 'in_reply_to_user_id_str': None, 'in_reply_to_screen_name': None, 'user': {'id': 1957610664, 'id_str': '1957610664', 'name': 'Samuel Ramani', 'screen_name': 'SamRamani2', 'location': 'Oxford, England', 'description': 'DPhil/PhD Intl Relations @UniofOxford Assoc Fellow @RUSI_org Bylines @ForeignPolicy, WaPo etc 3 forthcoming books @HurstPublishers Email samuel.ramani@gmail.com', 'url': None, 'entities': {'description': {'urls': []}}, 'protected': False, 'followers_count': 165968, 'friends_count': 3733, 'listed_count': 2486, 'created_at': 'Sat Oct 12 23:22:53 +0000 2013', 'favourites_count': 9217, 'utc_offset': None, 'time_zone': None, 'geo_enabled': False, 'verified': True, 'statuses_count': 20452, 'lang': None, 'contributors_enabled': False, 'is_translator': False, 'is_translation_enabled': False, 'profile_background_color': 'C0DEED', 'profile_background_image_url': 'http://abs.twimg.com/images/themes/theme1/bg.png', 'profile_background_image_url_https': 'https://abs.twimg.com/images/themes/theme1/bg.png', 'profile_background_tile': False, 'profile_image_url': 'http://pbs.twimg.com/profile_images/1082550331114954752/Pg1pRVnh_normal.jpg', 'profile_image_url_https': 'https://pbs.twimg.com/profile_images/1082550331114954752/Pg1pRVnh_normal.jpg', 'profile_banner_url': 'https://pbs.twimg.com/profile_banners/1957610664/1634503725', 'profile_link_color': '1DA1F2', 'profile_sidebar_border_color': 'C0DEED', 'profile_sidebar_fill_color': 'DDEEF6', 'profile_text_color': '333333', 'profile_use_background_image': True, 'has_extended_profile': False, 'default_profile': True, 'default_profile_image': False, 'following': False, 'follow_request_sent': False, 'notifications': False, 'translator_type': 'none', 'withheld_in_countries': []}, 'geo': None, 'coordinates': None, 'place': None, 'contributors': None, 'is_quote_status': False, 'retweet_count': 62, 'favorite_count': 495, 'favorited': False, 'retweeted': False, 'lang': 'en'}, 'retweet_count': 276, 'favorite_count': 1608, 'favorited': False, 'retweeted': False, 'possibly_sensitive': False, 'lang': 'en'}, created_at=datetime.datetime(2022, 8, 16, 1, 35, 57, tzinfo=datetime.timezone.utc), id=1559353236510883842, id_str='1559353236510883842', text='“Anti-war russians” could’ve been more “anti-war” should they stay in russia &amp; work hard to remove criminal putin’s… https://t.co/tX2cWg9kL2', truncated=True, entities={'hashtags': [], 'symbols': [], 'user_mentions': [], 'urls': [{'url': 'https://t.co/tX2cWg9kL2', 'expanded_url': 'https://twitter.com/i/web/status/1559353236510883842', 'display_url': 'twitter.com/i/web/status/1…', 'indices': [121, 144]}]}, metadata={'result_type': 'popular', 'iso_language_code': 'en'}, source='Twitter for iPhone', source_url='http://twitter.com/download/iphone', in_reply_to_status_id=None, in_reply_to_status_id_str=None, in_reply_to_user_id=None, in_reply_to_user_id_str=None, in_reply_to_screen_name=None, author=User(_api=<tweepy.api.API object at 0x7fd0f29ba310>, _json={'id': 2392201764, 'id_str': '2392201764', 'name': 'Sergiy Kyslytsya', 'screen_name': 'SergiyKyslytsya', 'location': 'New York, NY', 'description': \"Permanent Representative of Ukraine @UKRinUN Views are personal and aren't government's position unless it's clearly & explicitly indicated Ретвіти ≠ схвалення\", 'url': 'https://t.co/z8WnUcEajf', 'entities': {'url': {'urls': [{'url': 'https://t.co/z8WnUcEajf', 'expanded_url': 'http://ukraineun.org', 'display_url': 'ukraineun.org', 'indices': [0, 23]}]}, 'description': {'urls': []}}, 'protected': False, 'followers_count': 86910, 'friends_count': 1862, 'listed_count': 761, 'created_at': 'Sun Mar 16 06:24:55 +0000 2014', 'favourites_count': 7218, 'utc_offset': None, 'time_zone': None, 'geo_enabled': True, 'verified': True, 'statuses_count': 13493, 'lang': None, 'contributors_enabled': False, 'is_translator': False, 'is_translation_enabled': False, 'profile_background_color': 'C0DEED', 'profile_background_image_url': 'http://abs.twimg.com/images/themes/theme1/bg.png', 'profile_background_image_url_https': 'https://abs.twimg.com/images/themes/theme1/bg.png', 'profile_background_tile': False, 'profile_image_url': 'http://pbs.twimg.com/profile_images/1229289787049246720/nEIK2wGq_normal.jpg', 'profile_image_url_https': 'https://pbs.twimg.com/profile_images/1229289787049246720/nEIK2wGq_normal.jpg', 'profile_banner_url': 'https://pbs.twimg.com/profile_banners/2392201764/1419861879', 'profile_link_color': '1DA1F2', 'profile_sidebar_border_color': 'C0DEED', 'profile_sidebar_fill_color': 'DDEEF6', 'profile_text_color': '333333', 'profile_use_background_image': True, 'has_extended_profile': False, 'default_profile': True, 'default_profile_image': False, 'following': False, 'follow_request_sent': False, 'notifications': False, 'translator_type': 'none', 'withheld_in_countries': []}, id=2392201764, id_str='2392201764', name='Sergiy Kyslytsya', screen_name='SergiyKyslytsya', location='New York, NY', description=\"Permanent Representative of Ukraine @UKRinUN Views are personal and aren't government's position unless it's clearly & explicitly indicated Ретвіти ≠ схвалення\", url='https://t.co/z8WnUcEajf', entities={'url': {'urls': [{'url': 'https://t.co/z8WnUcEajf', 'expanded_url': 'http://ukraineun.org', 'display_url': 'ukraineun.org', 'indices': [0, 23]}]}, 'description': {'urls': []}}, protected=False, followers_count=86910, friends_count=1862, listed_count=761, created_at=datetime.datetime(2014, 3, 16, 6, 24, 55, tzinfo=datetime.timezone.utc), favourites_count=7218, utc_offset=None, time_zone=None, geo_enabled=True, verified=True, statuses_count=13493, lang=None, contributors_enabled=False, is_translator=False, is_translation_enabled=False, profile_background_color='C0DEED', profile_background_image_url='http://abs.twimg.com/images/themes/theme1/bg.png', profile_background_image_url_https='https://abs.twimg.com/images/themes/theme1/bg.png', profile_background_tile=False, profile_image_url='http://pbs.twimg.com/profile_images/1229289787049246720/nEIK2wGq_normal.jpg', profile_image_url_https='https://pbs.twimg.com/profile_images/1229289787049246720/nEIK2wGq_normal.jpg', profile_banner_url='https://pbs.twimg.com/profile_banners/2392201764/1419861879', profile_link_color='1DA1F2', profile_sidebar_border_color='C0DEED', profile_sidebar_fill_color='DDEEF6', profile_text_color='333333', profile_use_background_image=True, has_extended_profile=False, default_profile=True, default_profile_image=False, following=False, follow_request_sent=False, notifications=False, translator_type='none', withheld_in_countries=[]), user=User(_api=<tweepy.api.API object at 0x7fd0f29ba310>, _json={'id': 2392201764, 'id_str': '2392201764', 'name': 'Sergiy Kyslytsya', 'screen_name': 'SergiyKyslytsya', 'location': 'New York, NY', 'description': \"Permanent Representative of Ukraine @UKRinUN Views are personal and aren't government's position unless it's clearly & explicitly indicated Ретвіти ≠ схвалення\", 'url': 'https://t.co/z8WnUcEajf', 'entities': {'url': {'urls': [{'url': 'https://t.co/z8WnUcEajf', 'expanded_url': 'http://ukraineun.org', 'display_url': 'ukraineun.org', 'indices': [0, 23]}]}, 'description': {'urls': []}}, 'protected': False, 'followers_count': 86910, 'friends_count': 1862, 'listed_count': 761, 'created_at': 'Sun Mar 16 06:24:55 +0000 2014', 'favourites_count': 7218, 'utc_offset': None, 'time_zone': None, 'geo_enabled': True, 'verified': True, 'statuses_count': 13493, 'lang': None, 'contributors_enabled': False, 'is_translator': False, 'is_translation_enabled': False, 'profile_background_color': 'C0DEED', 'profile_background_image_url': 'http://abs.twimg.com/images/themes/theme1/bg.png', 'profile_background_image_url_https': 'https://abs.twimg.com/images/themes/theme1/bg.png', 'profile_background_tile': False, 'profile_image_url': 'http://pbs.twimg.com/profile_images/1229289787049246720/nEIK2wGq_normal.jpg', 'profile_image_url_https': 'https://pbs.twimg.com/profile_images/1229289787049246720/nEIK2wGq_normal.jpg', 'profile_banner_url': 'https://pbs.twimg.com/profile_banners/2392201764/1419861879', 'profile_link_color': '1DA1F2', 'profile_sidebar_border_color': 'C0DEED', 'profile_sidebar_fill_color': 'DDEEF6', 'profile_text_color': '333333', 'profile_use_background_image': True, 'has_extended_profile': False, 'default_profile': True, 'default_profile_image': False, 'following': False, 'follow_request_sent': False, 'notifications': False, 'translator_type': 'none', 'withheld_in_countries': []}, id=2392201764, id_str='2392201764', name='Sergiy Kyslytsya', screen_name='SergiyKyslytsya', location='New York, NY', description=\"Permanent Representative of Ukraine @UKRinUN Views are personal and aren't government's position unless it's clearly & explicitly indicated Ретвіти ≠ схвалення\", url='https://t.co/z8WnUcEajf', entities={'url': {'urls': [{'url': 'https://t.co/z8WnUcEajf', 'expanded_url': 'http://ukraineun.org', 'display_url': 'ukraineun.org', 'indices': [0, 23]}]}, 'description': {'urls': []}}, protected=False, followers_count=86910, friends_count=1862, listed_count=761, created_at=datetime.datetime(2014, 3, 16, 6, 24, 55, tzinfo=datetime.timezone.utc), favourites_count=7218, utc_offset=None, time_zone=None, geo_enabled=True, verified=True, statuses_count=13493, lang=None, contributors_enabled=False, is_translator=False, is_translation_enabled=False, profile_background_color='C0DEED', profile_background_image_url='http://abs.twimg.com/images/themes/theme1/bg.png', profile_background_image_url_https='https://abs.twimg.com/images/themes/theme1/bg.png', profile_background_tile=False, profile_image_url='http://pbs.twimg.com/profile_images/1229289787049246720/nEIK2wGq_normal.jpg', profile_image_url_https='https://pbs.twimg.com/profile_images/1229289787049246720/nEIK2wGq_normal.jpg', profile_banner_url='https://pbs.twimg.com/profile_banners/2392201764/1419861879', profile_link_color='1DA1F2', profile_sidebar_border_color='C0DEED', profile_sidebar_fill_color='DDEEF6', profile_text_color='333333', profile_use_background_image=True, has_extended_profile=False, default_profile=True, default_profile_image=False, following=False, follow_request_sent=False, notifications=False, translator_type='none', withheld_in_countries=[]), geo=None, coordinates=None, place=Place(_api=<tweepy.api.API object at 0x7fd0f29ba310>, id='65b4760a2b411e11', url='https://api.twitter.com/1.1/geo/id/65b4760a2b411e11.json', place_type='admin', name='New Jersey', full_name='New Jersey, USA', country_code='US', country='United States', contained_within=[], bounding_box=BoundingBox(_api=<tweepy.api.API object at 0x7fd0f29ba310>, type='Polygon', coordinates=[[[-75.563587, 38.788657], [-73.88506, 38.788657], [-73.88506, 41.357424], [-75.563587, 41.357424]]]), attributes={}), contributors=None, is_quote_status=True, quoted_status_id=1559311462702645248, quoted_status_id_str='1559311462702645248', quoted_status=Status(_api=<tweepy.api.API object at 0x7fd0f29ba310>, _json={'created_at': 'Mon Aug 15 22:49:57 +0000 2022', 'id': 1559311462702645248, 'id_str': '1559311462702645248', 'text': \"German Chancellor Olaf Scholz's attendance at the Nordic Summit underscores Germany's desire to cooperate with Nord… https://t.co/NFcDzPcwTo\", 'truncated': True, 'entities': {'hashtags': [], 'symbols': [], 'user_mentions': [], 'urls': [{'url': 'https://t.co/NFcDzPcwTo', 'expanded_url': 'https://twitter.com/i/web/status/1559311462702645248', 'display_url': 'twitter.com/i/web/status/1…', 'indices': [117, 140]}]}, 'metadata': {'result_type': 'popular', 'iso_language_code': 'en'}, 'source': '<a href=\"https://mobile.twitter.com\" rel=\"nofollow\">Twitter Web App</a>', 'in_reply_to_status_id': None, 'in_reply_to_status_id_str': None, 'in_reply_to_user_id': None, 'in_reply_to_user_id_str': None, 'in_reply_to_screen_name': None, 'user': {'id': 1957610664, 'id_str': '1957610664', 'name': 'Samuel Ramani', 'screen_name': 'SamRamani2', 'location': 'Oxford, England', 'description': 'DPhil/PhD Intl Relations @UniofOxford Assoc Fellow @RUSI_org Bylines @ForeignPolicy, WaPo etc 3 forthcoming books @HurstPublishers Email samuel.ramani@gmail.com', 'url': None, 'entities': {'description': {'urls': []}}, 'protected': False, 'followers_count': 165968, 'friends_count': 3733, 'listed_count': 2486, 'created_at': 'Sat Oct 12 23:22:53 +0000 2013', 'favourites_count': 9217, 'utc_offset': None, 'time_zone': None, 'geo_enabled': False, 'verified': True, 'statuses_count': 20452, 'lang': None, 'contributors_enabled': False, 'is_translator': False, 'is_translation_enabled': False, 'profile_background_color': 'C0DEED', 'profile_background_image_url': 'http://abs.twimg.com/images/themes/theme1/bg.png', 'profile_background_image_url_https': 'https://abs.twimg.com/images/themes/theme1/bg.png', 'profile_background_tile': False, 'profile_image_url': 'http://pbs.twimg.com/profile_images/1082550331114954752/Pg1pRVnh_normal.jpg', 'profile_image_url_https': 'https://pbs.twimg.com/profile_images/1082550331114954752/Pg1pRVnh_normal.jpg', 'profile_banner_url': 'https://pbs.twimg.com/profile_banners/1957610664/1634503725', 'profile_link_color': '1DA1F2', 'profile_sidebar_border_color': 'C0DEED', 'profile_sidebar_fill_color': 'DDEEF6', 'profile_text_color': '333333', 'profile_use_background_image': True, 'has_extended_profile': False, 'default_profile': True, 'default_profile_image': False, 'following': False, 'follow_request_sent': False, 'notifications': False, 'translator_type': 'none', 'withheld_in_countries': []}, 'geo': None, 'coordinates': None, 'place': None, 'contributors': None, 'is_quote_status': False, 'retweet_count': 62, 'favorite_count': 495, 'favorited': False, 'retweeted': False, 'lang': 'en'}, created_at=datetime.datetime(2022, 8, 15, 22, 49, 57, tzinfo=datetime.timezone.utc), id=1559311462702645248, id_str='1559311462702645248', text=\"German Chancellor Olaf Scholz's attendance at the Nordic Summit underscores Germany's desire to cooperate with Nord… https://t.co/NFcDzPcwTo\", truncated=True, entities={'hashtags': [], 'symbols': [], 'user_mentions': [], 'urls': [{'url': 'https://t.co/NFcDzPcwTo', 'expanded_url': 'https://twitter.com/i/web/status/1559311462702645248', 'display_url': 'twitter.com/i/web/status/1…', 'indices': [117, 140]}]}, metadata={'result_type': 'popular', 'iso_language_code': 'en'}, source='Twitter Web App', source_url='https://mobile.twitter.com', in_reply_to_status_id=None, in_reply_to_status_id_str=None, in_reply_to_user_id=None, in_reply_to_user_id_str=None, in_reply_to_screen_name=None, author=User(_api=<tweepy.api.API object at 0x7fd0f29ba310>, _json={'id': 1957610664, 'id_str': '1957610664', 'name': 'Samuel Ramani', 'screen_name': 'SamRamani2', 'location': 'Oxford, England', 'description': 'DPhil/PhD Intl Relations @UniofOxford Assoc Fellow @RUSI_org Bylines @ForeignPolicy, WaPo etc 3 forthcoming books @HurstPublishers Email samuel.ramani@gmail.com', 'url': None, 'entities': {'description': {'urls': []}}, 'protected': False, 'followers_count': 165968, 'friends_count': 3733, 'listed_count': 2486, 'created_at': 'Sat Oct 12 23:22:53 +0000 2013', 'favourites_count': 9217, 'utc_offset': None, 'time_zone': None, 'geo_enabled': False, 'verified': True, 'statuses_count': 20452, 'lang': None, 'contributors_enabled': False, 'is_translator': False, 'is_translation_enabled': False, 'profile_background_color': 'C0DEED', 'profile_background_image_url': 'http://abs.twimg.com/images/themes/theme1/bg.png', 'profile_background_image_url_https': 'https://abs.twimg.com/images/themes/theme1/bg.png', 'profile_background_tile': False, 'profile_image_url': 'http://pbs.twimg.com/profile_images/1082550331114954752/Pg1pRVnh_normal.jpg', 'profile_image_url_https': 'https://pbs.twimg.com/profile_images/1082550331114954752/Pg1pRVnh_normal.jpg', 'profile_banner_url': 'https://pbs.twimg.com/profile_banners/1957610664/1634503725', 'profile_link_color': '1DA1F2', 'profile_sidebar_border_color': 'C0DEED', 'profile_sidebar_fill_color': 'DDEEF6', 'profile_text_color': '333333', 'profile_use_background_image': True, 'has_extended_profile': False, 'default_profile': True, 'default_profile_image': False, 'following': False, 'follow_request_sent': False, 'notifications': False, 'translator_type': 'none', 'withheld_in_countries': []}, id=1957610664, id_str='1957610664', name='Samuel Ramani', screen_name='SamRamani2', location='Oxford, England', description='DPhil/PhD Intl Relations @UniofOxford Assoc Fellow @RUSI_org Bylines @ForeignPolicy, WaPo etc 3 forthcoming books @HurstPublishers Email samuel.ramani@gmail.com', url=None, entities={'description': {'urls': []}}, protected=False, followers_count=165968, friends_count=3733, listed_count=2486, created_at=datetime.datetime(2013, 10, 12, 23, 22, 53, tzinfo=datetime.timezone.utc), favourites_count=9217, utc_offset=None, time_zone=None, geo_enabled=False, verified=True, statuses_count=20452, lang=None, contributors_enabled=False, is_translator=False, is_translation_enabled=False, profile_background_color='C0DEED', profile_background_image_url='http://abs.twimg.com/images/themes/theme1/bg.png', profile_background_image_url_https='https://abs.twimg.com/images/themes/theme1/bg.png', profile_background_tile=False, profile_image_url='http://pbs.twimg.com/profile_images/1082550331114954752/Pg1pRVnh_normal.jpg', profile_image_url_https='https://pbs.twimg.com/profile_images/1082550331114954752/Pg1pRVnh_normal.jpg', profile_banner_url='https://pbs.twimg.com/profile_banners/1957610664/1634503725', profile_link_color='1DA1F2', profile_sidebar_border_color='C0DEED', profile_sidebar_fill_color='DDEEF6', profile_text_color='333333', profile_use_background_image=True, has_extended_profile=False, default_profile=True, default_profile_image=False, following=False, follow_request_sent=False, notifications=False, translator_type='none', withheld_in_countries=[]), user=User(_api=<tweepy.api.API object at 0x7fd0f29ba310>, _json={'id': 1957610664, 'id_str': '1957610664', 'name': 'Samuel Ramani', 'screen_name': 'SamRamani2', 'location': 'Oxford, England', 'description': 'DPhil/PhD Intl Relations @UniofOxford Assoc Fellow @RUSI_org Bylines @ForeignPolicy, WaPo etc 3 forthcoming books @HurstPublishers Email samuel.ramani@gmail.com', 'url': None, 'entities': {'description': {'urls': []}}, 'protected': False, 'followers_count': 165968, 'friends_count': 3733, 'listed_count': 2486, 'created_at': 'Sat Oct 12 23:22:53 +0000 2013', 'favourites_count': 9217, 'utc_offset': None, 'time_zone': None, 'geo_enabled': False, 'verified': True, 'statuses_count': 20452, 'lang': None, 'contributors_enabled': False, 'is_translator': False, 'is_translation_enabled': False, 'profile_background_color': 'C0DEED', 'profile_background_image_url': 'http://abs.twimg.com/images/themes/theme1/bg.png', 'profile_background_image_url_https': 'https://abs.twimg.com/images/themes/theme1/bg.png', 'profile_background_tile': False, 'profile_image_url': 'http://pbs.twimg.com/profile_images/1082550331114954752/Pg1pRVnh_normal.jpg', 'profile_image_url_https': 'https://pbs.twimg.com/profile_images/1082550331114954752/Pg1pRVnh_normal.jpg', 'profile_banner_url': 'https://pbs.twimg.com/profile_banners/1957610664/1634503725', 'profile_link_color': '1DA1F2', 'profile_sidebar_border_color': 'C0DEED', 'profile_sidebar_fill_color': 'DDEEF6', 'profile_text_color': '333333', 'profile_use_background_image': True, 'has_extended_profile': False, 'default_profile': True, 'default_profile_image': False, 'following': False, 'follow_request_sent': False, 'notifications': False, 'translator_type': 'none', 'withheld_in_countries': []}, id=1957610664, id_str='1957610664', name='Samuel Ramani', screen_name='SamRamani2', location='Oxford, England', description='DPhil/PhD Intl Relations @UniofOxford Assoc Fellow @RUSI_org Bylines @ForeignPolicy, WaPo etc 3 forthcoming books @HurstPublishers Email samuel.ramani@gmail.com', url=None, entities={'description': {'urls': []}}, protected=False, followers_count=165968, friends_count=3733, listed_count=2486, created_at=datetime.datetime(2013, 10, 12, 23, 22, 53, tzinfo=datetime.timezone.utc), favourites_count=9217, utc_offset=None, time_zone=None, geo_enabled=False, verified=True, statuses_count=20452, lang=None, contributors_enabled=False, is_translator=False, is_translation_enabled=False, profile_background_color='C0DEED', profile_background_image_url='http://abs.twimg.com/images/themes/theme1/bg.png', profile_background_image_url_https='https://abs.twimg.com/images/themes/theme1/bg.png', profile_background_tile=False, profile_image_url='http://pbs.twimg.com/profile_images/1082550331114954752/Pg1pRVnh_normal.jpg', profile_image_url_https='https://pbs.twimg.com/profile_images/1082550331114954752/Pg1pRVnh_normal.jpg', profile_banner_url='https://pbs.twimg.com/profile_banners/1957610664/1634503725', profile_link_color='1DA1F2', profile_sidebar_border_color='C0DEED', profile_sidebar_fill_color='DDEEF6', profile_text_color='333333', profile_use_background_image=True, has_extended_profile=False, default_profile=True, default_profile_image=False, following=False, follow_request_sent=False, notifications=False, translator_type='none', withheld_in_countries=[]), geo=None, coordinates=None, place=None, contributors=None, is_quote_status=False, retweet_count=62, favorite_count=495, favorited=False, retweeted=False, lang='en'), retweet_count=276, favorite_count=1608, favorited=False, retweeted=False, possibly_sensitive=False, lang='en')]"
      ]
     },
     "execution_count": 18,
     "metadata": {},
     "output_type": "execute_result"
    }
   ],
   "source": [
    "us_trend_search"
   ]
  },
  {
   "cell_type": "code",
   "execution_count": 19,
   "id": "4e3fe924-478c-41cf-913b-6cfdcee8094a",
   "metadata": {},
   "outputs": [],
   "source": [
    "# initializing our text processors\n",
    "sent = SentimentIntensityAnalyzer()\n",
    "tokenizer_1 = RegexpTokenizer('\\w+|\\$[\\d\\.]+|\\S+')\n",
    "lemmatizer = WordNetLemmatizer()"
   ]
  },
  {
   "cell_type": "code",
   "execution_count": 20,
   "id": "b79d2a1f-81e4-47b8-bea3-22c6188cb6dd",
   "metadata": {},
   "outputs": [
    {
     "name": "stderr",
     "output_type": "stream",
     "text": [
      "Unexpected parameter: id\n"
     ]
    },
    {
     "name": "stdout",
     "output_type": "stream",
     "text": [
      "For National Thrift Shop Day, @wirecutter has advice about where and how to donate or otherwise get rid of your old… https://t.co/OfQUGe8aQS\n",
      "Archival detective work helped prove that “one of the great treasures” in the University of Michigan Library — a ma… https://t.co/jnY4opdkDX\n",
      "Following outcry from global leaders and officials, Palestinian leader Mahmoud Abbas walked back the remarks he mad… https://t.co/lnf5gPj4ID\n",
      "Willie Nelson has a long history of tempting, and cheating, death. As he approaches 90, he remains on the road, rea… https://t.co/IWGrcEQept\n",
      "Many supposed mosquito control methods — including popular options like citronella candles — have no proven effecti… https://t.co/aEcRWT19V1\n",
      "In a village in Kent, in southeast England, Ukrainian recruits have been waging mock battles directed by British co… https://t.co/whYINSDViG\n",
      "When they met in July, Fed officials expected inflation to stay “uncomfortably high” for some time, and they remain… https://t.co/8NoU2e3vpE\n",
      "Driven by the president’s long-held goal to take over the energy sector from private companies and allow state firm… https://t.co/511dnHVGvx\n",
      "A juicy fruit, a creamy cheese and a salty cheese become a quick and delicious pasta.\n",
      "https://t.co/M41JEYaaWO https://t.co/DwU6ogTzv5\n",
      "In New York City, the number of mosquito pools that tested positive for West Nile virus is the “highest number ever… https://t.co/7WcCFA4lhI\n",
      "Six years ago, eight members of the same family were found shot to death in several mobile homes and a camper in ru… https://t.co/REveCxai9v\n",
      "Lisa Murkowski of Alaska is the only Senate Republican on the ballot this year who voted to convict Donald Trump in… https://t.co/KC4azN1zZq\n",
      "Dr. Joseph Mercola sits at the helm of a multimillion-dollar health empire. It was built, in part, by peddling medi… https://t.co/PDu2C8taSQ\n",
      "From @TheAthleticUK:\n",
      "\n",
      "Manchester United are considering a loan move for Christian Pulisic, the most expensive North… https://t.co/7g6IQxpQEN\n",
      "In Opinion\n",
      "\n",
      "While Liz Cheney may not be some paragon of altruism, her unwavering stance against Donald Trump among… https://t.co/VCvcQdoLLq\n",
      "After years of testy, on-again-off-again relations, Israel and Turkey announced that they were restoring full diplo… https://t.co/ZY9sV5tMu8\n",
      "The director of the CDC on Wednesday delivered a sweeping rebuke of her agency’s handling of the coronavirus pandem… https://t.co/FaXVF0w1YV\n",
      "🟨🟩 The average number of guesses for today's Wordle is 3.7. Did you beat it? 🟨🟩 https://t.co/VGgI82kUC4 https://t.co/pHG8L8Qk9T\n",
      "Europe, which has become the global monkeypox hot spot, is struggling with the latest outbreak, which has disturbin… https://t.co/vKW7BbNXFF\n",
      "Breaking News: Mike Pence called on Republicans to stop attacking the nation’s top law enforcement agencies over th… https://t.co/ULqi70RuJ7\n"
     ]
    }
   ],
   "source": [
    "# Creating the API object while passing in auth information\n",
    "api = tp.API(auth)\n",
    "\n",
    "# The Twitter user who we want to get tweets from\n",
    "name = \"nytimes\"\n",
    "# Number of tweets to pull\n",
    "tweetCount = 20\n",
    "\n",
    "# Calling the user_timeline function with our parameters\n",
    "results = api.user_timeline(id=name, count=tweetCount)\n",
    "\n",
    "# foreach through all tweets pulled\n",
    "for tweet in results:\n",
    "   # printing the text stored inside the tweet object\n",
    "   print (tweet.text)"
   ]
  },
  {
   "cell_type": "code",
   "execution_count": 21,
   "id": "39b323ba-4568-4ad2-8b89-7099c9420e75",
   "metadata": {},
   "outputs": [
    {
     "name": "stdout",
     "output_type": "stream",
     "text": [
      "Race2Diversity Tweeted: RT @jenniferbrown: The latest episode of #thewilltochange features my conversation w/@AdrienneLaw about why I made the decision to tackle a… 0.0\n",
      "iam_brigght Tweeted: RT @Boi_TripleHay: With your current account balance, which Apple product can you afford? 0.0\n",
      "_0MELANCHOLY_ Tweeted: RT @demixready: iTunes US:\n",
      "\n",
      "#56 (+29) “29” — @ddlovato (NEW PEAK)\n",
      "\n",
      "FINALLY 29\n",
      "https://t.co/dUzQVfq0vl 0.0\n",
      "DrinkHealthAde Tweeted: RT @MillionDollaJAP: Literally a kombucha bigger than my head - pink lady apple https://t.co/bYBUtCmNxe 0.0\n",
      "General_325 Tweeted: RT @General_325: 2022 Opel Corsa 1.2 \n",
      "\n",
      "Mileage 300km\n",
      "\n",
      "Apple/Android Car Play, PDC, Touchscreen Display, Xenon Headlights, Bluetooth, Multif… 0.34\n",
      "Maxamdbar88888 Tweeted: RT @MichaelRapaport: My Crew Thick!!!!\n",
      "\n",
      "LFG, new @iamrapaport is CREW THICK:\n",
      "\n",
      "https://t.co/ngcABHE29A https://t.co/04qRYwoqev 0.0\n",
      "ATXFestival Tweeted: NEW on #TheTVCampfire Podcast: Our #ATXTVs11 convo w/@katjaherbers (#Evil), Valerie Armstrong (#KevinCanFHimself),… https://t.co/kDmNWsuvsO 0.0\n",
      "safdieluvr Tweeted: RT @FilmUpdates: Kirby Howell-Baptiste to star alongside Colin Farrell in Apple TV+ series ‘SUGAR’. \n",
      "\n",
      "Details regarding the “genre-bending”… 0.0\n",
      "HayesKacheria Tweeted: RT @whoayriss: Walmart it’s time to start taking Apple Pay -0.1027\n",
      "KuShotCha Tweeted: Planners, candles, a gift card for my fav loungewear brand, unique looking socks, a pretty silk bonnet, a travel si… https://t.co/V22ByIOKpF 0.8442\n",
      "lawm75277 Tweeted: I want my coach backpack 🎒 I had but a guy I was talking to beat me up for my new backpack and my iPhone Apple Watc… https://t.co/j9dNnLqJB9 0.0387\n",
      "theebardii Tweeted: RT @girlsinrap: .@TheeStallion shows love to @Rico_nastyy in Apple Music interview: \n",
      "\n",
      "“I freaking love Rico Nasty, she’s so good. I feel li… 0.7346\n",
      "glitchride Tweeted: ⁴²¹\n",
      "\n",
      "With Time &amp; Space 💫\n",
      "\n",
      "https://t.co/a5dmAEpcFs 0.0\n",
      "Jarrook Tweeted: Signed up for Apple One for the storage plan.. stayed for #Trying. @esthervonsmith @OHanlonJim 🥰🥰 0.0\n",
      "dnfplussapnap Tweeted: RT @banter: @GeorgeNotFound @KarlJacobs_ @Dream HAVE THE Apple Podcast Link TOO IDIOT:\n",
      "https://t.co/OR0zLFcCqQ -0.6166\n"
     ]
    }
   ],
   "source": [
    "# Creating the API object while passing in auth information\n",
    "api = tp.API(auth)\n",
    "\n",
    "# The search term you want to find\n",
    "query = \"Apple\"\n",
    "# Language code (follows ISO 639-1 standards)\n",
    "language = \"en\"\n",
    "\n",
    "# Calling the user_timeline function with our parameters\n",
    "results = api.search_tweets(q=query, lang=language)\n",
    "\n",
    "# foreach through all tweets pulled\n",
    "for tweet in results:\n",
    "   # printing the text stored inside the tweet object\n",
    "   print (tweet.user.screen_name,\"Tweeted:\",tweet.text, sent.polarity_scores(tweet.text).get('compound'))"
   ]
  },
  {
   "cell_type": "code",
   "execution_count": 26,
   "id": "03d63e76-d769-4a24-bc09-a58878105c38",
   "metadata": {},
   "outputs": [
    {
     "name": "stdout",
     "output_type": "stream",
     "text": [
      "0.08254666666666667\n"
     ]
    }
   ],
   "source": [
    "cmp = 0\n",
    "cnt = 0\n",
    "for tweet in results:\n",
    "   # printing the text stored inside the tweet object\n",
    "    cnt += 1\n",
    "    cmp += sent.polarity_scores(tweet.text).get('compound') \n",
    "print(cmp/results.len())"
   ]
  },
  {
   "cell_type": "markdown",
   "id": "8817da33-41c4-4b6e-af5a-c959a2956b6f",
   "metadata": {},
   "source": []
  },
  {
   "cell_type": "code",
   "execution_count": 24,
   "id": "ed93a9fa-bc13-4760-8573-1a70374ca1c0",
   "metadata": {},
   "outputs": [
    {
     "data": {
      "text/plain": [
       "1.2382"
      ]
     },
     "execution_count": 24,
     "metadata": {},
     "output_type": "execute_result"
    }
   ],
   "source": [
    "cmp"
   ]
  },
  {
   "cell_type": "code",
   "execution_count": null,
   "id": "1ff6fbd9-5223-47f9-beb8-aa8d3bb33a93",
   "metadata": {},
   "outputs": [],
   "source": []
  },
  {
   "cell_type": "code",
   "execution_count": 22,
   "id": "7300fd80-bddc-40e9-a38e-2eeb3c95b9eb",
   "metadata": {},
   "outputs": [
    {
     "ename": "AttributeError",
     "evalue": "'SearchResults' object has no attribute 'tweet'",
     "output_type": "error",
     "traceback": [
      "\u001b[0;31m---------------------------------------------------------------------------\u001b[0m",
      "\u001b[0;31mAttributeError\u001b[0m                            Traceback (most recent call last)",
      "Input \u001b[0;32mIn [22]\u001b[0m, in \u001b[0;36m<cell line: 1>\u001b[0;34m()\u001b[0m\n\u001b[0;32m----> 1\u001b[0m \u001b[38;5;28mprint\u001b[39m (\u001b[43mresults\u001b[49m\u001b[38;5;241;43m.\u001b[39;49m\u001b[43mtweet\u001b[49m\u001b[38;5;241m.\u001b[39mtext)\n",
      "\u001b[0;31mAttributeError\u001b[0m: 'SearchResults' object has no attribute 'tweet'"
     ]
    }
   ],
   "source": [
    "print (results.tweet.text)"
   ]
  },
  {
   "cell_type": "code",
   "execution_count": null,
   "id": "2112cbaf-ad9c-49a7-800c-00e8eb90192e",
   "metadata": {},
   "outputs": [
    {
     "data": {
      "text/plain": [
       "{'neg': 1.0, 'neu': 0.0, 'pos': 0.0, 'compound': -0.5859}"
      ]
     },
     "execution_count": 28,
     "metadata": {},
     "output_type": "execute_result"
    }
   ],
   "source": [
    "sent.polarity_scores(\"Bitch\")"
   ]
  },
  {
   "cell_type": "code",
   "execution_count": null,
   "id": "092c25cc-e393-4c71-b2b7-d211634c4c4e",
   "metadata": {},
   "outputs": [],
   "source": [
    "sent.polarity_scores(\"t"
   ]
  },
  {
   "cell_type": "code",
   "execution_count": null,
   "id": "97f9e56f-1ab3-4f9a-a140-132e03e6daf4",
   "metadata": {},
   "outputs": [],
   "source": []
  }
 ],
 "metadata": {
  "kernelspec": {
   "display_name": "Python 3 (ipykernel)",
   "language": "python",
   "name": "python3"
  },
  "language_info": {
   "codemirror_mode": {
    "name": "ipython",
    "version": 3
   },
   "file_extension": ".py",
   "mimetype": "text/x-python",
   "name": "python",
   "nbconvert_exporter": "python",
   "pygments_lexer": "ipython3",
   "version": "3.9.12"
  }
 },
 "nbformat": 4,
 "nbformat_minor": 5
}
