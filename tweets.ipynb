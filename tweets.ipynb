{
 "cells": [
  {
   "cell_type": "code",
   "execution_count": 1,
   "id": "bf7fb999-17a2-403c-ade7-556e2c1eb099",
   "metadata": {},
   "outputs": [],
   "source": [
    "import pandas as pd\n",
    "import numpy as np\n",
    "import tweepy as tp\n",
    "import nltk.data\n",
    "\n",
    "from nltk.sentiment.vader import SentimentIntensityAnalyzer\n",
    "from nltk.tokenize import sent_tokenize, word_tokenize, RegexpTokenizer\n",
    "from nltk.stem import WordNetLemmatizer"
   ]
  },
  {
   "cell_type": "markdown",
   "id": "972026c2-571a-46ce-bb70-152ca2a6a805",
   "metadata": {},
   "source": [
    "Logging in to the API"
   ]
  },
  {
   "cell_type": "code",
   "execution_count": 2,
   "id": "ede5ba61-6268-4ec5-a5e9-02a616842759",
   "metadata": {},
   "outputs": [],
   "source": [
    "auth = tp.OAuthHandler('Q8PBHkfAQ8Mdu1Jb92xq6XrXk', 'Kq2sWTiwYVlce7H8tf2SDnb87AxcavLAOWOkvlrz3IC4PWFRv0')\n",
    "auth.set_access_token('872883949-S4Yl9enJQRoS5XaaLpq7KH7r0KNw467RvTDFvJZ3', 'rhygCZHSME87BlNLoHhl0ukChWXoe1zhphOkZxwa7tY3n')\n",
    "\n",
    "api = tp.API(auth)\n",
    "\n",
    "public_tweets = api.home_timeline()"
   ]
  },
  {
   "cell_type": "markdown",
   "id": "49f63d68-24d2-4772-9793-fedd071712e8",
   "metadata": {},
   "source": [
    "Checking the front page"
   ]
  },
  {
   "cell_type": "code",
   "execution_count": 3,
   "id": "4e3fe924-478c-41cf-913b-6cfdcee8094a",
   "metadata": {},
   "outputs": [],
   "source": [
    "# initializing our text processors\n",
    "sent = SentimentIntensityAnalyzer()\n",
    "tokenizer_1 = RegexpTokenizer('\\w+|\\$[\\d\\.]+|\\S+')\n",
    "lemmatizer = WordNetLemmatizer()"
   ]
  },
  {
   "cell_type": "code",
   "execution_count": 4,
   "id": "79048373-27a9-4353-b698-0dc7a380d636",
   "metadata": {},
   "outputs": [
    {
     "name": "stdout",
     "output_type": "stream",
     "text": [
      "Kid : can I have some pepperoni \n",
      "Me : puts pepperoni on Childs plate \n",
      "Child: what did you put on my plate ? Me : si… https://t.co/lEehtcnSUB 0.0\n",
      "https://t.co/CzD66pRM3N 0.0\n",
      "RT @tomflood1: The car culture media machine in all its glory. \n",
      "\n",
      "Running over bollards ✔️\n",
      "Driving in the bike lane\n",
      "Driving on the sidewalk… 0.5423\n",
      "Immediately https://t.co/1flL1AczOb 0.0\n",
      "💰Deal: Respawn Pro Ergonomic Gaming Chair 27% off on Amazon https://t.co/kKkK7vzoqV\n",
      "\n",
      "Reclining Gaming Chair with Bu… https://t.co/Fuji4kBOgM 0.1779\n",
      "another day another heartbreak -0.5719\n",
      "What intern is running this account? https://t.co/AfUQUoT1n6 https://t.co/wFvzAgCTBR 0.0\n",
      "RT @axoplox: this y’all’s Top G? https://t.co/QM6deVXZ2z 0.2023\n",
      "RT @dorieclark: This week on my weekly @Newsweek interview series, Better, @dgelles and I are going macro for a discussion about what’s wro… 0.4404\n",
      "Important stats to know. https://t.co/Xbexy7agdK 0.2023\n",
      "#OCFA Firefighters quickly extinguished a vehicle fire just minutes ago on the NB 5 freeway at 4th in Santa Ana.  N… https://t.co/LJKkbW5JfF -0.296\n",
      "Bull shit &amp; disgusting. If you’re a woman in STEM, please keep going! https://t.co/lA5GYGrKCa -0.7177\n",
      "bc we're not allowed to be topless while we do it :/ https://t.co/p5u2cdnHLX -0.34\n",
      "Be sure to follow our TikTok to catch all the new content we’ll have coming out over there! \n",
      "\n",
      "https://t.co/gBLexnEG5D 0.3802\n",
      "We got the LCS team to try out the middle part challenge. Be honest, who do you think really killed the look? https://t.co/ygxt3h27Gb -0.2944\n",
      "RT @h3h3productions: Gabbie Hanna seems to be in the throes of a manic episode. Please be considerate of that when talking about her online… 0.6369\n",
      "RT @aliyahInterlude: nobody has seen u at your ugliest like your roomates bf who’s name is not even on the lease -0.3182\n",
      "RT @caseykfrey: Never seen big titties harm anyone -0.5423\n",
      "RT @TelekomBaskets: Halbzeit im Testspiel gegen die @ARTGiantsDdorf. Die Baskets treffen elf Dreier bis zur Pause und führen mit 65:34. @Tj… -0.8316\n",
      "https://t.co/zfWUJ0lOS3 0.0\n"
     ]
    }
   ],
   "source": [
    "for tweet in public_tweets:\n",
    "    print(tweet.text + ' '  + str(sent.polarity_scores(tweet.text).get('compound') ))"
   ]
  },
  {
   "cell_type": "code",
   "execution_count": 5,
   "id": "493196b9-826f-49ee-8d11-5edb0fa82e16",
   "metadata": {},
   "outputs": [
    {
     "name": "stdout",
     "output_type": "stream",
     "text": [
      "{'name': 'United States', 'placeType': {'code': 12, 'name': 'Country'}, 'url': 'http://where.yahooapis.com/v1/place/23424977', 'parentid': 1, 'country': 'United States', 'woeid': 23424977, 'countryCode': 'US'}\n"
     ]
    }
   ],
   "source": [
    "public_trends = api.available_trends()\n",
    "for tweet in public_trends:\n",
    "    if tweet['name'] == 'United States':\n",
    "        print(tweet)"
   ]
  },
  {
   "cell_type": "code",
   "execution_count": 6,
   "id": "d59cac1d-fbe2-4faa-995b-4d51ea26f967",
   "metadata": {},
   "outputs": [
    {
     "name": "stdout",
     "output_type": "stream",
     "text": [
      "#studentloanforgiveness| compound: 0.20438666666666666 pos: 0.16046666666666667 neg: 0.085 neu: 0.7545333333333333\n",
      "Nick Cannon| compound: -0.0072866666666666635 pos: 0.05673333333333333 neg: 0.051333333333333335 neu: 0.8919333333333335\n",
      "Biden| compound: 0.09113333333333334 pos: 0.10093333333333332 neg: 0.06226666666666667 neu: 0.8367333333333332\n",
      "Cardi| compound: -0.17038 pos: 0.06293333333333333 neg: 0.151 neu: 0.7859333333333333\n",
      "Pell| compound: 0.24490666666666666 pos: 0.16166666666666668 neg: 0.06873333333333333 neu: 0.7697999999999999\n",
      "#ATEEZWORLDTOUR2022| compound: 0.4445466666666666 pos: 0.1742 neg: 0.007066666666666666 neu: 0.8187333333333332\n",
      "Saweetie| compound: -0.3429400000000001 pos: 0.012533333333333334 neg: 0.16219999999999998 neu: 0.8252666666666666\n",
      "Chet| compound: -0.2982666666666667 pos: 0.0602 neg: 0.16933333333333336 neu: 0.7704666666666665\n",
      "Wall Street| compound: -0.1714133333333333 pos: 0.05933333333333333 neg: 0.10553333333333333 neu: 0.8350666666666666\n",
      "GI Bill| compound: 0.13042857142857148 pos: 0.09871428571428571 neg: 0.05492857142857143 neu: 0.8464285714285715\n",
      "gabbie hanna| compound: 0.024613333333333327 pos: 0.11860000000000001 neg: 0.12566666666666668 neu: 0.7555333333333333\n",
      "Aquaman 2| compound: -0.12445333333333332 pos: 0.069 neg: 0.10566666666666666 neu: 0.8253333333333333\n",
      "Rubi Rose| compound: 0.10861333333333335 pos: 0.09646666666666667 neg: 0.07126666666666666 neu: 0.8322666666666666\n",
      "George Kirby| compound: -0.2270666666666667 pos: 0.007866666666666666 neg: 0.07833333333333334 neu: 0.9137333333333333\n",
      "#StudentDebt| compound: 0.13073333333333337 pos: 0.12533333333333332 neg: 0.08866666666666666 neu: 0.7859999999999999\n",
      "Missy| compound: -0.16424666666666668 pos: 0.023 neg: 0.0724 neu: 0.9046666666666668\n",
      "Nelnet| compound: -0.26067333333333337 pos: 0.030466666666666673 neg: 0.13093333333333332 neu: 0.8385999999999999\n",
      "Caresha| compound: 0.4983 pos: 0.28813333333333335 neg: 0.037066666666666664 neu: 0.6748\n",
      "Shazam 2| compound: -0.26294 pos: 0.0 neg: 0.09193333333333334 neu: 0.9080666666666668\n",
      "PSLF| compound: 0.17328000000000002 pos: 0.113 neg: 0.0648 neu: 0.822\n",
      "Fury of the Gods| compound: -0.6499133333333333 pos: 0.0 neg: 0.21413333333333334 neu: 0.7858666666666667\n",
      "Offset| compound: -0.24087333333333336 pos: 0.034666666666666665 neg: 0.11920000000000001 neu: 0.846\n",
      "LETS NOT TALK ABOUT HUSBANDS| compound: -0.07745333333333333 pos: 0.0518 neg: 0.10053333333333334 neu: 0.8476666666666667\n",
      "DACA| compound: 0.13938 pos: 0.0534 neg: 0.005266666666666667 neu: 0.9413333333333334\n",
      "Harvard| compound: 0.1427733333333333 pos: 0.09273333333333333 neg: 0.02606666666666667 neu: 0.8812\n",
      "ZOUIS| compound: 0.07639333333333333 pos: 0.083 neg: 0.0 neu: 0.917\n",
      "Brett Kavanaugh| compound: -0.1874333333333333 pos: 0.04386666666666667 neg: 0.10373333333333332 neu: 0.8524\n",
      "#WhenIThinkOfYou| compound: 0.03726666666666668 pos: 0.094 neg: 0.06133333333333334 neu: 0.8446666666666667\n",
      "Potomac| compound: -0.405023076923077 pos: 0.012 neg: 0.13523076923076924 neu: 0.8527692307692306\n",
      "#LovedYouThreeSummers| compound: 0.24017999999999998 pos: 0.11253333333333333 neg: 0.0 neu: 0.8874666666666667\n",
      "Blake Snell| compound: 0.10354 pos: 0.10046666666666668 neg: 0.0684 neu: 0.8311333333333333\n",
      "Newark| compound: 0.3302133333333333 pos: 0.17786666666666667 neg: 0.03326666666666667 neu: 0.7888666666666668\n",
      "Evil Dead Rise| compound: -0.6696266666666665 pos: 0.0 neg: 0.27166666666666667 neu: 0.7283333333333334\n",
      "Unfair| compound: -0.38159999999999994 pos: 0.06693333333333333 neg: 0.16966666666666666 neu: 0.7633333333333333\n",
      "Sallie Mae| compound: -0.009480000000000011 pos: 0.04613333333333333 neg: 0.05493333333333333 neu: 0.8988666666666667\n",
      "Khalil| compound: 0.021526666666666656 pos: 0.10033333333333333 neg: 0.10713333333333334 neu: 0.7922\n",
      "Tillman| compound: 0.2742066666666666 pos: 0.10413333333333333 neg: 0.018399999999999996 neu: 0.8775333333333333\n",
      "FAFSA| compound: 0.07574666666666667 pos: 0.06513333333333333 neg: 0.06420000000000001 neu: 0.8706666666666666\n",
      "Amazon Care| compound: 0.5400866666666666 pos: 0.3334 neg: 0.008666666666666666 neu: 0.6579333333333335\n",
      "Migos| compound: -0.06837333333333333 pos: 0.031466666666666664 neg: 0.046866666666666675 neu: 0.9216666666666666\n",
      "Avatar 2| compound: 0.2283866666666667 pos: 0.12226666666666668 neg: 0.04453333333333333 neu: 0.8331999999999999\n",
      "Don't Worry Darling| compound: -0.07080000000000002 pos: 0.12700000000000003 neg: 0.15879999999999997 neu: 0.7143999999999998\n",
      "IM SEEING ATEEZ| compound: 0.10232000000000001 pos: 0.056466666666666665 neg: 0.014933333333333331 neu: 0.9287333333333334\n",
      "Fire and Rain| compound: -0.17192666666666667 pos: 0.06573333333333334 neg: 0.16786666666666672 neu: 0.7662666666666667\n",
      "Socialism| compound: -0.16061333333333336 pos: 0.079 neg: 0.11339999999999997 neu: 0.8073999999999999\n",
      "Anaheim| compound: 0.10214000000000002 pos: 0.0788 neg: 0.005533333333333334 neu: 0.9156666666666666\n",
      "Bobby Dalbec| compound: 0.038740000000000004 pos: 0.13613333333333336 neg: 0.07433333333333333 neu: 0.7895333333333334\n",
      "Anibal Sanchez| compound: -0.11588 pos: 0.06746666666666666 neg: 0.08433333333333333 neu: 0.8479333333333333\n",
      "$NVDA| compound: 0.19659333333333334 pos: 0.0876 neg: 0.0276 neu: 0.8847333333333334\n",
      "James Sands| compound: 0.09983333333333334 pos: 0.03486666666666667 neg: 0.004333333333333333 neu: 0.9608000000000001\n"
     ]
    }
   ],
   "source": [
    "# getting the top trends and checking the sentiment of the top tweets that mention them\n",
    "\n",
    "us_trends = api.get_place_trends(23424977)\n",
    "for i in range(len(us_trends[0].get('trends'))):\n",
    "    api = tp.API(auth)\n",
    "\n",
    "    # The search term you want to find\n",
    "    query = us_trends[0].get('trends')[i]['name']\n",
    "    # Language code (follows ISO 639-1 standards)\n",
    "    language = \"en\"\n",
    "\n",
    "    # Calling the user_timeline function with our parameters\n",
    "    results = api.search_tweets(q=query, lang=language)\n",
    "\n",
    "    # foreach through all tweets pulled\n",
    "    cmp = 0\n",
    "    cnt = 0\n",
    "    pos = 0\n",
    "    neu = 0\n",
    "    neg = 0\n",
    "    for tweet in results:\n",
    "        \n",
    "           # printing the text stored inside the tweet object\n",
    "        cnt += 1\n",
    "        cmp += sent.polarity_scores(tweet.text).get('compound') \n",
    "        pos += sent.polarity_scores(tweet.text).get('pos') \n",
    "        neg += sent.polarity_scores(tweet.text).get('neg') \n",
    "        neu += sent.polarity_scores(tweet.text).get('neu') \n",
    "        \n",
    "    print (us_trends[0].get('trends')[i]['name'] + '| compound: ' + str(cmp/cnt) \n",
    "               + ' pos: ' + str(pos/cnt) + ' neg: ' + str(neg/cnt) + ' neu: ' + str(neu/cnt) )"
   ]
  },
  {
   "cell_type": "code",
   "execution_count": 7,
   "id": "b7e2860c-0785-427c-97b8-1d955369deee",
   "metadata": {},
   "outputs": [
    {
     "name": "stdout",
     "output_type": "stream",
     "text": [
      "ItsCristiaanBra Tweeted: RT @MKBHD: Likely:\n",
      "iPhone 14 lineup\n",
      "New camera system in Pro iPhones\n",
      "New \"Pro\" Apple Watch S8\n",
      "\n",
      "Possible:\n",
      "Updated AirPods\n",
      "\n",
      "In my dreams:\n",
      "A U… 0.4019\n",
      "HectorRoesner Tweeted: RT @theapplehub: Apple has officially announced the next Apple Event will take place on September 7th at 10 a.m. PDT. Apple is expected to… 0.0\n",
      "AcemanWolf Tweeted: Join Apple for a special event at Apple Park on September 7, 2022 at 10:00 a.m. PT. #Apple #AppleEvent https://t.co/2X5UJxeZF2 0.5994\n",
      "Maurice46478372 Tweeted: RT @ShellyLorine: Who are the woman having all these Cannon babies?  There’s something very wrong with this!\n",
      "\n",
      "Nick Cannon Announced That He… -0.5697\n",
      "Leno_teca Tweeted: RT @eatmovemake: Butterscotch Apple Cakes - RIDICULOUSLY good! https://t.co/reJ9pUb3EC -0.1343\n",
      "baispznz12 Tweeted: I’m giving away some money dm with your cash app or apple pay &amp; Zelle if you are interested in getting spoiled 🇺🇸 t… https://t.co/AsP1oQzojU 0.5719\n",
      "sisterryan_ Tweeted: RT @sisterryan_: James Charles for the Apple tv event last night https://t.co/yIWjJ61DzY 0.0\n",
      "badilloh Tweeted: Federal Judge Declares Ron DeSantis’s Ridiculous “Woke Indoctrination” Law Unconstitutional - Vanity Fair https://t.co/XKVBOC7ypo -0.2732\n",
      "khal_drago92 Tweeted: RT @LawCrimeNetwork: Ex-TMZ employee @MorganTremaine talks to @Angenette5 about testifying during #DeppVsHeard 👇:\n",
      "\n",
      "APPLE: https://t.co/Qioy… 0.0\n",
      "JoshuaBrown2018 Tweeted: Android literally has all the iMessage features now and Apple won’t let us use them when texting the green bubbles, I’m sick -0.5106\n",
      "visiononamagzne Tweeted: So good I had to share! Check out all the items I'm loving on @Poshmarkapp #poshmark #fashion #style #shopmycloset… https://t.co/mJ2TY0lnLp 0.862\n",
      "WorkspaceInspo Tweeted: Many companies in their early days, such as Apple and Amazon, are organizations that emerged from abandoned garages… https://t.co/WLNuZrz7Dw -0.3182\n",
      "MinkminkB Tweeted: RT @printyonce_: SFG STREAMING  PARTY — NOW 🎊 \n",
      "\n",
      "Apple Music Barbz : https://t.co/LgLJJt5eaH\n",
      "\n",
      "Spotify Barbz : https://t.co/I3hoSrsGll https:… 0.5319\n",
      "heyitsvajid Tweeted: @hadip @Apple Real pain when you want to block a spam messages sender. Also another pain is to open message to block it. -0.9274\n",
      "shinigamidilemo Tweeted: empire rlly shoulda been it’s own track https://t.co/eIHE4B1kMI 0.0\n"
     ]
    }
   ],
   "source": [
    "# Creating the API object while passing in auth information\n",
    "api = tp.API(auth)\n",
    "\n",
    "# The search term you want to find\n",
    "query = \"Apple\"\n",
    "# Language code (follows ISO 639-1 standards)\n",
    "language = \"en\"\n",
    "\n",
    "# Calling the user_timeline function with our parameters\n",
    "results = api.search_tweets(q=query, lang=language)\n",
    "\n",
    "# foreach through all tweets pulled\n",
    "for tweet in results:\n",
    "   # printing the text stored inside the tweet object\n",
    "   print (tweet.user.screen_name,\"Tweeted:\",tweet.text, sent.polarity_scores(tweet.text).get('compound'))"
   ]
  },
  {
   "cell_type": "code",
   "execution_count": 15,
   "id": "ef3c284d-f35a-425e-a07e-c5c2183ec9df",
   "metadata": {
    "tags": []
   },
   "outputs": [],
   "source": [
    "# Creating the API object while passing in auth information\n",
    "api = tp.API(auth)\n",
    "\n",
    "# The search term you want to find\n",
    "query = \"Apple\"\n",
    "# Language code (follows ISO 639-1 standards)\n",
    "language = \"en\"\n",
    "\n",
    "# Calling the user_timeline function with our parameters\n",
    "results = api.search_tweets(q = 'Apple', geocode = '37.09024, -95.712891,1400mi', result_type = 'mixed')\n",
    "\n",
    "\n",
    "for tweet in results:\n",
    "    print(tweet.text)"
   ]
  },
  {
   "cell_type": "code",
   "execution_count": 18,
   "id": "3d14b5eb-5ff2-4a61-99e9-40d6c7e38c22",
   "metadata": {},
   "outputs": [
    {
     "ename": "AttributeError",
     "evalue": "'Status' object has no attribute 'get'",
     "output_type": "error",
     "traceback": [
      "\u001b[0;31m---------------------------------------------------------------------------\u001b[0m",
      "\u001b[0;31mAttributeError\u001b[0m                            Traceback (most recent call last)",
      "Input \u001b[0;32mIn [18]\u001b[0m, in \u001b[0;36m<cell line: 13>\u001b[0;34m()\u001b[0m\n\u001b[1;32m     12\u001b[0m \u001b[38;5;66;03m# foreach through all tweets pulled\u001b[39;00m\n\u001b[1;32m     13\u001b[0m \u001b[38;5;28;01mfor\u001b[39;00m tweet \u001b[38;5;129;01min\u001b[39;00m results:\n\u001b[1;32m     14\u001b[0m    \u001b[38;5;66;03m# printing the text stored inside the tweet object\u001b[39;00m\n\u001b[0;32m---> 15\u001b[0m    \u001b[38;5;28mprint\u001b[39m (tweet\u001b[38;5;241m.\u001b[39muser\u001b[38;5;241m.\u001b[39mscreen_name,\u001b[38;5;124m\"\u001b[39m\u001b[38;5;124mTweeted:\u001b[39m\u001b[38;5;124m\"\u001b[39m,tweet\u001b[38;5;241m.\u001b[39mtext, sent\u001b[38;5;241m.\u001b[39mpolarity_scores(tweet\u001b[38;5;241m.\u001b[39mtext)\u001b[38;5;241m.\u001b[39mget(\u001b[38;5;124m'\u001b[39m\u001b[38;5;124mcompound\u001b[39m\u001b[38;5;124m'\u001b[39m), \u001b[43mtweet\u001b[49m\u001b[38;5;241;43m.\u001b[39;49m\u001b[43mget\u001b[49m(\u001b[38;5;124m'\u001b[39m\u001b[38;5;124muser\u001b[39m\u001b[38;5;124m'\u001b[39m, {})\u001b[38;5;241m.\u001b[39mget(\u001b[38;5;124m'\u001b[39m\u001b[38;5;124mlocation\u001b[39m\u001b[38;5;124m'\u001b[39m, {}))\n",
      "\u001b[0;31mAttributeError\u001b[0m: 'Status' object has no attribute 'get'"
     ]
    }
   ],
   "source": [
    "# Creating the API object while passing in auth information\n",
    "api = tp.API(auth)\n",
    "\n",
    "# The search term you want to find\n",
    "query = \"Apple\"\n",
    "# Language code (follows ISO 639-1 standards)\n",
    "language = \"en\"\n",
    "\n",
    "# Calling the user_timeline function with our parameters\n",
    "results = api.search_tweets(q=query, lang=language)\n",
    "\n",
    "# foreach through all tweets pulled\n",
    "for tweet in results:\n",
    "   # printing the text stored inside the tweet object\n",
    "   print (tweet.user.screen_name,\"Tweeted:\",tweet.text, sent.polarity_scores(tweet.text).get('compound'), tweet.get('user', {}).get('location', {})) "
   ]
  },
  {
   "cell_type": "code",
   "execution_count": null,
   "id": "87f52ae8-3fd1-4e78-b356-0a5dc8ac5270",
   "metadata": {},
   "outputs": [],
   "source": []
  }
 ],
 "metadata": {
  "kernelspec": {
   "display_name": "Python 3 (ipykernel)",
   "language": "python",
   "name": "python3"
  },
  "language_info": {
   "codemirror_mode": {
    "name": "ipython",
    "version": 3
   },
   "file_extension": ".py",
   "mimetype": "text/x-python",
   "name": "python",
   "nbconvert_exporter": "python",
   "pygments_lexer": "ipython3",
   "version": "3.9.12"
  }
 },
 "nbformat": 4,
 "nbformat_minor": 5
}
